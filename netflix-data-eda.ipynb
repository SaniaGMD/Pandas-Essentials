{
 "cells": [
  {
   "cell_type": "code",
   "execution_count": 1,
   "metadata": {
    "_cell_guid": "b1076dfc-b9ad-4769-8c92-a6c4dae69d19",
    "_uuid": "8f2839f25d086af736a60e9eeb907d3b93b6e0e5",
    "execution": {
     "iopub.execute_input": "2022-07-14T12:38:02.647658Z",
     "iopub.status.busy": "2022-07-14T12:38:02.647173Z",
     "iopub.status.idle": "2022-07-14T12:38:02.694233Z",
     "shell.execute_reply": "2022-07-14T12:38:02.693274Z",
     "shell.execute_reply.started": "2022-07-14T12:38:02.647544Z"
    }
   },
   "outputs": [],
   "source": [
    "# This Python 3 environment comes with many helpful analytics libraries installed\n",
    "# It is defined by the kaggle/python Docker image: https://github.com/kaggle/docker-python\n",
    "# For example, here's several helpful packages to load\n",
    "\n",
    "import numpy as np # linear algebra\n",
    "import pandas as pd # data processing, CSV file I/O (e.g. pd.read_csv)\n",
    "\n",
    "# Input data files are available in the read-only \"../input/\" directory\n",
    "# For example, running this (by clicking run or pressing Shift+Enter) will list all files under the input directory\n",
    "\n",
    "import os\n",
    "for dirname, _, filenames in os.walk('/kaggle/input'):\n",
    "    for filename in filenames:\n",
    "        print(os.path.join(dirname, filename))\n",
    "\n",
    "# You can write up to 20GB to the current directory (/kaggle/working/) that gets preserved as output when you create a version using \"Save & Run All\" \n",
    "# You can also write temporary files to /kaggle/temp/, but they won't be saved outside of the current session"
   ]
  },
  {
   "cell_type": "code",
   "execution_count": 2,
   "metadata": {
    "execution": {
     "iopub.execute_input": "2022-07-14T12:38:02.696494Z",
     "iopub.status.busy": "2022-07-14T12:38:02.695921Z",
     "iopub.status.idle": "2022-07-14T12:38:03.939463Z",
     "shell.execute_reply": "2022-07-14T12:38:03.938055Z",
     "shell.execute_reply.started": "2022-07-14T12:38:02.696458Z"
    }
   },
   "outputs": [],
   "source": [
    "import pandas as pd\n",
    "import numpy as np\n",
    "import seaborn as sns\n",
    "import matplotlib.pyplot as plt"
   ]
  },
  {
   "cell_type": "code",
   "execution_count": 90,
   "metadata": {
    "execution": {
     "iopub.execute_input": "2022-07-14T12:38:03.941217Z",
     "iopub.status.busy": "2022-07-14T12:38:03.940866Z",
     "iopub.status.idle": "2022-07-14T12:38:04.108526Z",
     "shell.execute_reply": "2022-07-14T12:38:04.107144Z",
     "shell.execute_reply.started": "2022-07-14T12:38:03.941185Z"
    }
   },
   "outputs": [
    {
     "data": {
      "text/html": [
       "<div>\n",
       "<style scoped>\n",
       "    .dataframe tbody tr th:only-of-type {\n",
       "        vertical-align: middle;\n",
       "    }\n",
       "\n",
       "    .dataframe tbody tr th {\n",
       "        vertical-align: top;\n",
       "    }\n",
       "\n",
       "    .dataframe thead th {\n",
       "        text-align: right;\n",
       "    }\n",
       "</style>\n",
       "<table border=\"1\" class=\"dataframe\">\n",
       "  <thead>\n",
       "    <tr style=\"text-align: right;\">\n",
       "      <th></th>\n",
       "      <th>show_id</th>\n",
       "      <th>type</th>\n",
       "      <th>title</th>\n",
       "      <th>director</th>\n",
       "      <th>cast</th>\n",
       "      <th>country</th>\n",
       "      <th>date_added</th>\n",
       "      <th>release_year</th>\n",
       "      <th>rating</th>\n",
       "      <th>duration</th>\n",
       "      <th>listed_in</th>\n",
       "      <th>description</th>\n",
       "    </tr>\n",
       "  </thead>\n",
       "  <tbody>\n",
       "    <tr>\n",
       "      <th>0</th>\n",
       "      <td>s1</td>\n",
       "      <td>Movie</td>\n",
       "      <td>Dick Johnson Is Dead</td>\n",
       "      <td>Kirsten Johnson</td>\n",
       "      <td>NaN</td>\n",
       "      <td>United States</td>\n",
       "      <td>September 25, 2021</td>\n",
       "      <td>2020</td>\n",
       "      <td>PG-13</td>\n",
       "      <td>90 min</td>\n",
       "      <td>Documentaries</td>\n",
       "      <td>As her father nears the end of his life, filmm...</td>\n",
       "    </tr>\n",
       "    <tr>\n",
       "      <th>1</th>\n",
       "      <td>s2</td>\n",
       "      <td>TV Show</td>\n",
       "      <td>Blood &amp; Water</td>\n",
       "      <td>NaN</td>\n",
       "      <td>Ama Qamata, Khosi Ngema, Gail Mabalane, Thaban...</td>\n",
       "      <td>South Africa</td>\n",
       "      <td>September 24, 2021</td>\n",
       "      <td>2021</td>\n",
       "      <td>TV-MA</td>\n",
       "      <td>2 Seasons</td>\n",
       "      <td>International TV Shows, TV Dramas, TV Mysteries</td>\n",
       "      <td>After crossing paths at a party, a Cape Town t...</td>\n",
       "    </tr>\n",
       "    <tr>\n",
       "      <th>2</th>\n",
       "      <td>s3</td>\n",
       "      <td>TV Show</td>\n",
       "      <td>Ganglands</td>\n",
       "      <td>Julien Leclercq</td>\n",
       "      <td>Sami Bouajila, Tracy Gotoas, Samuel Jouy, Nabi...</td>\n",
       "      <td>NaN</td>\n",
       "      <td>September 24, 2021</td>\n",
       "      <td>2021</td>\n",
       "      <td>TV-MA</td>\n",
       "      <td>1 Season</td>\n",
       "      <td>Crime TV Shows, International TV Shows, TV Act...</td>\n",
       "      <td>To protect his family from a powerful drug lor...</td>\n",
       "    </tr>\n",
       "    <tr>\n",
       "      <th>3</th>\n",
       "      <td>s4</td>\n",
       "      <td>TV Show</td>\n",
       "      <td>Jailbirds New Orleans</td>\n",
       "      <td>NaN</td>\n",
       "      <td>NaN</td>\n",
       "      <td>NaN</td>\n",
       "      <td>September 24, 2021</td>\n",
       "      <td>2021</td>\n",
       "      <td>TV-MA</td>\n",
       "      <td>1 Season</td>\n",
       "      <td>Docuseries, Reality TV</td>\n",
       "      <td>Feuds, flirtations and toilet talk go down amo...</td>\n",
       "    </tr>\n",
       "    <tr>\n",
       "      <th>4</th>\n",
       "      <td>s5</td>\n",
       "      <td>TV Show</td>\n",
       "      <td>Kota Factory</td>\n",
       "      <td>NaN</td>\n",
       "      <td>Mayur More, Jitendra Kumar, Ranjan Raj, Alam K...</td>\n",
       "      <td>India</td>\n",
       "      <td>September 24, 2021</td>\n",
       "      <td>2021</td>\n",
       "      <td>TV-MA</td>\n",
       "      <td>2 Seasons</td>\n",
       "      <td>International TV Shows, Romantic TV Shows, TV ...</td>\n",
       "      <td>In a city of coaching centers known to train I...</td>\n",
       "    </tr>\n",
       "  </tbody>\n",
       "</table>\n",
       "</div>"
      ],
      "text/plain": [
       "  show_id     type                  title         director  \\\n",
       "0      s1    Movie   Dick Johnson Is Dead  Kirsten Johnson   \n",
       "1      s2  TV Show          Blood & Water              NaN   \n",
       "2      s3  TV Show              Ganglands  Julien Leclercq   \n",
       "3      s4  TV Show  Jailbirds New Orleans              NaN   \n",
       "4      s5  TV Show           Kota Factory              NaN   \n",
       "\n",
       "                                                cast        country  \\\n",
       "0                                                NaN  United States   \n",
       "1  Ama Qamata, Khosi Ngema, Gail Mabalane, Thaban...   South Africa   \n",
       "2  Sami Bouajila, Tracy Gotoas, Samuel Jouy, Nabi...            NaN   \n",
       "3                                                NaN            NaN   \n",
       "4  Mayur More, Jitendra Kumar, Ranjan Raj, Alam K...          India   \n",
       "\n",
       "           date_added  release_year rating   duration  \\\n",
       "0  September 25, 2021          2020  PG-13     90 min   \n",
       "1  September 24, 2021          2021  TV-MA  2 Seasons   \n",
       "2  September 24, 2021          2021  TV-MA   1 Season   \n",
       "3  September 24, 2021          2021  TV-MA   1 Season   \n",
       "4  September 24, 2021          2021  TV-MA  2 Seasons   \n",
       "\n",
       "                                           listed_in  \\\n",
       "0                                      Documentaries   \n",
       "1    International TV Shows, TV Dramas, TV Mysteries   \n",
       "2  Crime TV Shows, International TV Shows, TV Act...   \n",
       "3                             Docuseries, Reality TV   \n",
       "4  International TV Shows, Romantic TV Shows, TV ...   \n",
       "\n",
       "                                         description  \n",
       "0  As her father nears the end of his life, filmm...  \n",
       "1  After crossing paths at a party, a Cape Town t...  \n",
       "2  To protect his family from a powerful drug lor...  \n",
       "3  Feuds, flirtations and toilet talk go down amo...  \n",
       "4  In a city of coaching centers known to train I...  "
      ]
     },
     "execution_count": 90,
     "metadata": {},
     "output_type": "execute_result"
    }
   ],
   "source": [
    "df = pd.read_csv('netflix_titles.csv')\n",
    "df.head()"
   ]
  },
  {
   "cell_type": "markdown",
   "metadata": {},
   "source": [
    "DATA SCIENCE PROBLEMS\n",
    "**Task.1) Is there any Duplicate Record in this dataset ? If yes, then remove the duplicate records. \n",
    "Task. 2) Is there any Null Value present in any column ? Show with Heat-map.\n",
    "Q. 1) For 'House of Cards', what is the Show Id and Who is the Director of this show ?\n",
    "Q. 2) In which year the highest number of the TV Shows & Movies were released ? Show with Bar Graph.\n",
    "Q. 3) How many Movies & TV Shows are in the dataset ? Show with Bar Graph.\n",
    "Q. 4) Show all the Movies that were released in year 2000.\n",
    "Q. 5) Show only the Titles of all TV Shows that were released in India only.\n",
    "Q. 6) Show Top 10 Directors, who gave the highest number of TV Shows & Movies to Netflix ?\n",
    "Q. 7) Show all the Records, where \"Category is Movie and Type is Comedies\" or \"Country is United Kingdom\".\n",
    "Q. 8) In how many movies/shows, Tom Cruise was cast ?\n",
    "Q. 9) What are the different Ratings defined by Netflix ?\n",
    "Q. 9.1) How many Movies got the 'TV-14' rating, in Canada ?\n",
    "Q. 9.2) How many TV Shows got the 'R' rating, after year 2018 ?\n",
    "Q. 10) What is the maximum duration of a Movie/Show on Netflix ?\n",
    "Q. 11) Which individual country has the Highest No. of TV Shows ?\n",
    "Q. 12) How can we sort the dataset by Year ?\n",
    "Q. 13) Find all the instances where: Category is 'Movie' and Type is 'Dramas' or Category is 'TV Show' & Type is 'Kids' TV'.**"
   ]
  },
  {
   "cell_type": "code",
   "execution_count": 6,
   "metadata": {
    "execution": {
     "iopub.execute_input": "2022-07-14T12:38:04.111129Z",
     "iopub.status.busy": "2022-07-14T12:38:04.110724Z",
     "iopub.status.idle": "2022-07-14T12:38:04.11975Z",
     "shell.execute_reply": "2022-07-14T12:38:04.118667Z",
     "shell.execute_reply.started": "2022-07-14T12:38:04.111093Z"
    }
   },
   "outputs": [
    {
     "data": {
      "text/plain": [
       "Index(['show_id', 'type', 'title', 'director', 'cast', 'country', 'date_added',\n",
       "       'release_year', 'rating', 'duration', 'listed_in', 'description'],\n",
       "      dtype='object')"
      ]
     },
     "execution_count": 6,
     "metadata": {},
     "output_type": "execute_result"
    }
   ],
   "source": [
    "df.columns"
   ]
  },
  {
   "cell_type": "code",
   "execution_count": 7,
   "metadata": {
    "execution": {
     "iopub.execute_input": "2022-07-14T12:38:04.121869Z",
     "iopub.status.busy": "2022-07-14T12:38:04.120942Z",
     "iopub.status.idle": "2022-07-14T12:38:04.136243Z",
     "shell.execute_reply": "2022-07-14T12:38:04.134991Z",
     "shell.execute_reply.started": "2022-07-14T12:38:04.121835Z"
    }
   },
   "outputs": [
    {
     "data": {
      "text/plain": [
       "(8807, 12)"
      ]
     },
     "execution_count": 7,
     "metadata": {},
     "output_type": "execute_result"
    }
   ],
   "source": [
    "df.shape"
   ]
  },
  {
   "cell_type": "code",
   "execution_count": 10,
   "metadata": {
    "execution": {
     "iopub.execute_input": "2022-07-14T12:38:04.138458Z",
     "iopub.status.busy": "2022-07-14T12:38:04.137757Z",
     "iopub.status.idle": "2022-07-14T12:38:04.175657Z",
     "shell.execute_reply": "2022-07-14T12:38:04.174695Z",
     "shell.execute_reply.started": "2022-07-14T12:38:04.138414Z"
    }
   },
   "outputs": [
    {
     "name": "stdout",
     "output_type": "stream",
     "text": [
      "<class 'pandas.core.frame.DataFrame'>\n",
      "RangeIndex: 8807 entries, 0 to 8806\n",
      "Data columns (total 12 columns):\n",
      " #   Column        Non-Null Count  Dtype \n",
      "---  ------        --------------  ----- \n",
      " 0   show_id       8807 non-null   object\n",
      " 1   type          8807 non-null   object\n",
      " 2   title         8807 non-null   object\n",
      " 3   director      6173 non-null   object\n",
      " 4   cast          7982 non-null   object\n",
      " 5   country       7976 non-null   object\n",
      " 6   date_added    8797 non-null   object\n",
      " 7   release_year  8807 non-null   int64 \n",
      " 8   rating        8803 non-null   object\n",
      " 9   duration      8804 non-null   object\n",
      " 10  listed_in     8807 non-null   object\n",
      " 11  description   8807 non-null   object\n",
      "dtypes: int64(1), object(11)\n",
      "memory usage: 825.8+ KB\n"
     ]
    }
   ],
   "source": [
    "df.info()"
   ]
  },
  {
   "cell_type": "code",
   "execution_count": 12,
   "metadata": {
    "execution": {
     "iopub.execute_input": "2022-07-14T12:38:04.177355Z",
     "iopub.status.busy": "2022-07-14T12:38:04.176863Z",
     "iopub.status.idle": "2022-07-14T12:38:04.182707Z",
     "shell.execute_reply": "2022-07-14T12:38:04.181885Z",
     "shell.execute_reply.started": "2022-07-14T12:38:04.177324Z"
    }
   },
   "outputs": [
    {
     "data": {
      "text/plain": [
       "105684"
      ]
     },
     "execution_count": 12,
     "metadata": {},
     "output_type": "execute_result"
    }
   ],
   "source": [
    "df.size"
   ]
  },
  {
   "cell_type": "code",
   "execution_count": 14,
   "metadata": {
    "execution": {
     "iopub.execute_input": "2022-07-14T12:38:04.184339Z",
     "iopub.status.busy": "2022-07-14T12:38:04.183873Z",
     "iopub.status.idle": "2022-07-14T12:38:04.199736Z",
     "shell.execute_reply": "2022-07-14T12:38:04.19876Z",
     "shell.execute_reply.started": "2022-07-14T12:38:04.184311Z"
    }
   },
   "outputs": [
    {
     "data": {
      "text/plain": [
       "show_id         object\n",
       "type            object\n",
       "title           object\n",
       "director        object\n",
       "cast            object\n",
       "country         object\n",
       "date_added      object\n",
       "release_year     int64\n",
       "rating          object\n",
       "duration        object\n",
       "listed_in       object\n",
       "description     object\n",
       "dtype: object"
      ]
     },
     "execution_count": 14,
     "metadata": {},
     "output_type": "execute_result"
    }
   ],
   "source": [
    "df.dtypes"
   ]
  },
  {
   "cell_type": "markdown",
   "metadata": {},
   "source": []
  },
  {
   "cell_type": "markdown",
   "metadata": {},
   "source": [
    "**1) Is there any Duplicate Record in this dataset ? If yes, then remove the duplicate records.**"
   ]
  },
  {
   "cell_type": "code",
   "execution_count": 15,
   "metadata": {
    "execution": {
     "iopub.execute_input": "2022-07-14T12:38:04.203354Z",
     "iopub.status.busy": "2022-07-14T12:38:04.20298Z",
     "iopub.status.idle": "2022-07-14T12:38:04.240437Z",
     "shell.execute_reply": "2022-07-14T12:38:04.239555Z",
     "shell.execute_reply.started": "2022-07-14T12:38:04.203321Z"
    }
   },
   "outputs": [
    {
     "data": {
      "text/html": [
       "<div>\n",
       "<style scoped>\n",
       "    .dataframe tbody tr th:only-of-type {\n",
       "        vertical-align: middle;\n",
       "    }\n",
       "\n",
       "    .dataframe tbody tr th {\n",
       "        vertical-align: top;\n",
       "    }\n",
       "\n",
       "    .dataframe thead th {\n",
       "        text-align: right;\n",
       "    }\n",
       "</style>\n",
       "<table border=\"1\" class=\"dataframe\">\n",
       "  <thead>\n",
       "    <tr style=\"text-align: right;\">\n",
       "      <th></th>\n",
       "      <th>show_id</th>\n",
       "      <th>type</th>\n",
       "      <th>title</th>\n",
       "      <th>director</th>\n",
       "      <th>cast</th>\n",
       "      <th>country</th>\n",
       "      <th>date_added</th>\n",
       "      <th>release_year</th>\n",
       "      <th>rating</th>\n",
       "      <th>duration</th>\n",
       "      <th>listed_in</th>\n",
       "      <th>description</th>\n",
       "    </tr>\n",
       "  </thead>\n",
       "  <tbody>\n",
       "  </tbody>\n",
       "</table>\n",
       "</div>"
      ],
      "text/plain": [
       "Empty DataFrame\n",
       "Columns: [show_id, type, title, director, cast, country, date_added, release_year, rating, duration, listed_in, description]\n",
       "Index: []"
      ]
     },
     "execution_count": 15,
     "metadata": {},
     "output_type": "execute_result"
    }
   ],
   "source": [
    "df[df.duplicated()]"
   ]
  },
  {
   "cell_type": "code",
   "execution_count": 16,
   "metadata": {
    "execution": {
     "iopub.execute_input": "2022-07-14T12:38:04.242234Z",
     "iopub.status.busy": "2022-07-14T12:38:04.241738Z",
     "iopub.status.idle": "2022-07-14T12:38:04.266727Z",
     "shell.execute_reply": "2022-07-14T12:38:04.265695Z",
     "shell.execute_reply.started": "2022-07-14T12:38:04.242202Z"
    }
   },
   "outputs": [],
   "source": [
    "df.drop_duplicates(inplace = True)"
   ]
  },
  {
   "cell_type": "code",
   "execution_count": 17,
   "metadata": {
    "execution": {
     "iopub.execute_input": "2022-07-14T12:38:04.268531Z",
     "iopub.status.busy": "2022-07-14T12:38:04.267998Z",
     "iopub.status.idle": "2022-07-14T12:38:04.274116Z",
     "shell.execute_reply": "2022-07-14T12:38:04.273195Z",
     "shell.execute_reply.started": "2022-07-14T12:38:04.268498Z"
    }
   },
   "outputs": [
    {
     "data": {
      "text/plain": [
       "(8807, 12)"
      ]
     },
     "execution_count": 17,
     "metadata": {},
     "output_type": "execute_result"
    }
   ],
   "source": [
    "df.shape"
   ]
  },
  {
   "cell_type": "markdown",
   "metadata": {},
   "source": [
    "**Task. 2) Is there any Null Value present in any column ? Show with Heat-map.**"
   ]
  },
  {
   "cell_type": "code",
   "execution_count": 18,
   "metadata": {
    "execution": {
     "iopub.execute_input": "2022-07-14T12:38:04.276182Z",
     "iopub.status.busy": "2022-07-14T12:38:04.275248Z",
     "iopub.status.idle": "2022-07-14T12:38:04.300257Z",
     "shell.execute_reply": "2022-07-14T12:38:04.299214Z",
     "shell.execute_reply.started": "2022-07-14T12:38:04.276141Z"
    }
   },
   "outputs": [
    {
     "data": {
      "text/plain": [
       "show_id            0\n",
       "type               0\n",
       "title              0\n",
       "director        2634\n",
       "cast             825\n",
       "country          831\n",
       "date_added        10\n",
       "release_year       0\n",
       "rating             4\n",
       "duration           3\n",
       "listed_in          0\n",
       "description        0\n",
       "dtype: int64"
      ]
     },
     "execution_count": 18,
     "metadata": {},
     "output_type": "execute_result"
    }
   ],
   "source": [
    "df.isnull().sum()"
   ]
  },
  {
   "cell_type": "code",
   "execution_count": 19,
   "metadata": {
    "execution": {
     "iopub.execute_input": "2022-07-14T12:38:04.302152Z",
     "iopub.status.busy": "2022-07-14T12:38:04.301783Z",
     "iopub.status.idle": "2022-07-14T12:38:04.341303Z",
     "shell.execute_reply": "2022-07-14T12:38:04.340431Z",
     "shell.execute_reply.started": "2022-07-14T12:38:04.30212Z"
    }
   },
   "outputs": [
    {
     "data": {
      "text/html": [
       "<div>\n",
       "<style scoped>\n",
       "    .dataframe tbody tr th:only-of-type {\n",
       "        vertical-align: middle;\n",
       "    }\n",
       "\n",
       "    .dataframe tbody tr th {\n",
       "        vertical-align: top;\n",
       "    }\n",
       "\n",
       "    .dataframe thead th {\n",
       "        text-align: right;\n",
       "    }\n",
       "</style>\n",
       "<table border=\"1\" class=\"dataframe\">\n",
       "  <thead>\n",
       "    <tr style=\"text-align: right;\">\n",
       "      <th></th>\n",
       "      <th>show_id</th>\n",
       "      <th>type</th>\n",
       "      <th>title</th>\n",
       "      <th>director</th>\n",
       "      <th>cast</th>\n",
       "      <th>country</th>\n",
       "      <th>date_added</th>\n",
       "      <th>release_year</th>\n",
       "      <th>rating</th>\n",
       "      <th>duration</th>\n",
       "      <th>listed_in</th>\n",
       "      <th>description</th>\n",
       "    </tr>\n",
       "  </thead>\n",
       "  <tbody>\n",
       "    <tr>\n",
       "      <th>0</th>\n",
       "      <td>False</td>\n",
       "      <td>False</td>\n",
       "      <td>False</td>\n",
       "      <td>False</td>\n",
       "      <td>True</td>\n",
       "      <td>False</td>\n",
       "      <td>False</td>\n",
       "      <td>False</td>\n",
       "      <td>False</td>\n",
       "      <td>False</td>\n",
       "      <td>False</td>\n",
       "      <td>False</td>\n",
       "    </tr>\n",
       "    <tr>\n",
       "      <th>1</th>\n",
       "      <td>False</td>\n",
       "      <td>False</td>\n",
       "      <td>False</td>\n",
       "      <td>True</td>\n",
       "      <td>False</td>\n",
       "      <td>False</td>\n",
       "      <td>False</td>\n",
       "      <td>False</td>\n",
       "      <td>False</td>\n",
       "      <td>False</td>\n",
       "      <td>False</td>\n",
       "      <td>False</td>\n",
       "    </tr>\n",
       "    <tr>\n",
       "      <th>2</th>\n",
       "      <td>False</td>\n",
       "      <td>False</td>\n",
       "      <td>False</td>\n",
       "      <td>False</td>\n",
       "      <td>False</td>\n",
       "      <td>True</td>\n",
       "      <td>False</td>\n",
       "      <td>False</td>\n",
       "      <td>False</td>\n",
       "      <td>False</td>\n",
       "      <td>False</td>\n",
       "      <td>False</td>\n",
       "    </tr>\n",
       "    <tr>\n",
       "      <th>3</th>\n",
       "      <td>False</td>\n",
       "      <td>False</td>\n",
       "      <td>False</td>\n",
       "      <td>True</td>\n",
       "      <td>True</td>\n",
       "      <td>True</td>\n",
       "      <td>False</td>\n",
       "      <td>False</td>\n",
       "      <td>False</td>\n",
       "      <td>False</td>\n",
       "      <td>False</td>\n",
       "      <td>False</td>\n",
       "    </tr>\n",
       "    <tr>\n",
       "      <th>4</th>\n",
       "      <td>False</td>\n",
       "      <td>False</td>\n",
       "      <td>False</td>\n",
       "      <td>True</td>\n",
       "      <td>False</td>\n",
       "      <td>False</td>\n",
       "      <td>False</td>\n",
       "      <td>False</td>\n",
       "      <td>False</td>\n",
       "      <td>False</td>\n",
       "      <td>False</td>\n",
       "      <td>False</td>\n",
       "    </tr>\n",
       "    <tr>\n",
       "      <th>...</th>\n",
       "      <td>...</td>\n",
       "      <td>...</td>\n",
       "      <td>...</td>\n",
       "      <td>...</td>\n",
       "      <td>...</td>\n",
       "      <td>...</td>\n",
       "      <td>...</td>\n",
       "      <td>...</td>\n",
       "      <td>...</td>\n",
       "      <td>...</td>\n",
       "      <td>...</td>\n",
       "      <td>...</td>\n",
       "    </tr>\n",
       "    <tr>\n",
       "      <th>8802</th>\n",
       "      <td>False</td>\n",
       "      <td>False</td>\n",
       "      <td>False</td>\n",
       "      <td>False</td>\n",
       "      <td>False</td>\n",
       "      <td>False</td>\n",
       "      <td>False</td>\n",
       "      <td>False</td>\n",
       "      <td>False</td>\n",
       "      <td>False</td>\n",
       "      <td>False</td>\n",
       "      <td>False</td>\n",
       "    </tr>\n",
       "    <tr>\n",
       "      <th>8803</th>\n",
       "      <td>False</td>\n",
       "      <td>False</td>\n",
       "      <td>False</td>\n",
       "      <td>True</td>\n",
       "      <td>True</td>\n",
       "      <td>True</td>\n",
       "      <td>False</td>\n",
       "      <td>False</td>\n",
       "      <td>False</td>\n",
       "      <td>False</td>\n",
       "      <td>False</td>\n",
       "      <td>False</td>\n",
       "    </tr>\n",
       "    <tr>\n",
       "      <th>8804</th>\n",
       "      <td>False</td>\n",
       "      <td>False</td>\n",
       "      <td>False</td>\n",
       "      <td>False</td>\n",
       "      <td>False</td>\n",
       "      <td>False</td>\n",
       "      <td>False</td>\n",
       "      <td>False</td>\n",
       "      <td>False</td>\n",
       "      <td>False</td>\n",
       "      <td>False</td>\n",
       "      <td>False</td>\n",
       "    </tr>\n",
       "    <tr>\n",
       "      <th>8805</th>\n",
       "      <td>False</td>\n",
       "      <td>False</td>\n",
       "      <td>False</td>\n",
       "      <td>False</td>\n",
       "      <td>False</td>\n",
       "      <td>False</td>\n",
       "      <td>False</td>\n",
       "      <td>False</td>\n",
       "      <td>False</td>\n",
       "      <td>False</td>\n",
       "      <td>False</td>\n",
       "      <td>False</td>\n",
       "    </tr>\n",
       "    <tr>\n",
       "      <th>8806</th>\n",
       "      <td>False</td>\n",
       "      <td>False</td>\n",
       "      <td>False</td>\n",
       "      <td>False</td>\n",
       "      <td>False</td>\n",
       "      <td>False</td>\n",
       "      <td>False</td>\n",
       "      <td>False</td>\n",
       "      <td>False</td>\n",
       "      <td>False</td>\n",
       "      <td>False</td>\n",
       "      <td>False</td>\n",
       "    </tr>\n",
       "  </tbody>\n",
       "</table>\n",
       "<p>8807 rows × 12 columns</p>\n",
       "</div>"
      ],
      "text/plain": [
       "      show_id   type  title  director   cast  country  date_added  \\\n",
       "0       False  False  False     False   True    False       False   \n",
       "1       False  False  False      True  False    False       False   \n",
       "2       False  False  False     False  False     True       False   \n",
       "3       False  False  False      True   True     True       False   \n",
       "4       False  False  False      True  False    False       False   \n",
       "...       ...    ...    ...       ...    ...      ...         ...   \n",
       "8802    False  False  False     False  False    False       False   \n",
       "8803    False  False  False      True   True     True       False   \n",
       "8804    False  False  False     False  False    False       False   \n",
       "8805    False  False  False     False  False    False       False   \n",
       "8806    False  False  False     False  False    False       False   \n",
       "\n",
       "      release_year  rating  duration  listed_in  description  \n",
       "0            False   False     False      False        False  \n",
       "1            False   False     False      False        False  \n",
       "2            False   False     False      False        False  \n",
       "3            False   False     False      False        False  \n",
       "4            False   False     False      False        False  \n",
       "...            ...     ...       ...        ...          ...  \n",
       "8802         False   False     False      False        False  \n",
       "8803         False   False     False      False        False  \n",
       "8804         False   False     False      False        False  \n",
       "8805         False   False     False      False        False  \n",
       "8806         False   False     False      False        False  \n",
       "\n",
       "[8807 rows x 12 columns]"
      ]
     },
     "execution_count": 19,
     "metadata": {},
     "output_type": "execute_result"
    }
   ],
   "source": [
    "df.isnull()"
   ]
  },
  {
   "cell_type": "code",
   "execution_count": 20,
   "metadata": {
    "execution": {
     "iopub.execute_input": "2022-07-14T12:38:04.343311Z",
     "iopub.status.busy": "2022-07-14T12:38:04.342387Z",
     "iopub.status.idle": "2022-07-14T12:38:04.878544Z",
     "shell.execute_reply": "2022-07-14T12:38:04.877154Z",
     "shell.execute_reply.started": "2022-07-14T12:38:04.343275Z"
    }
   },
   "outputs": [
    {
     "data": {
      "text/plain": [
       "<AxesSubplot:>"
      ]
     },
     "execution_count": 20,
     "metadata": {},
     "output_type": "execute_result"
    },
    {
     "data": {
      "image/png": "[encoded data removed]",
      "text/plain": [
       "<Figure size 432x288 with 2 Axes>"
      ]
     },
     "metadata": {
      "needs_background": "light"
     },
     "output_type": "display_data"
    }
   ],
   "source": [
    "\n",
    "sns.heatmap(df.isnull())"
   ]
  },
  {
   "cell_type": "markdown",
   "metadata": {},
   "source": [
    "**Q. 1) For 'House of Cards', what is the Show Id and Who is the Director of this show ?**"
   ]
  },
  {
   "cell_type": "code",
   "execution_count": 21,
   "metadata": {
    "execution": {
     "iopub.execute_input": "2022-07-14T12:38:04.880972Z",
     "iopub.status.busy": "2022-07-14T12:38:04.88048Z",
     "iopub.status.idle": "2022-07-14T12:38:04.90142Z",
     "shell.execute_reply": "2022-07-14T12:38:04.900184Z",
     "shell.execute_reply.started": "2022-07-14T12:38:04.880927Z"
    }
   },
   "outputs": [
    {
     "data": {
      "text/html": [
       "<div>\n",
       "<style scoped>\n",
       "    .dataframe tbody tr th:only-of-type {\n",
       "        vertical-align: middle;\n",
       "    }\n",
       "\n",
       "    .dataframe tbody tr th {\n",
       "        vertical-align: top;\n",
       "    }\n",
       "\n",
       "    .dataframe thead th {\n",
       "        text-align: right;\n",
       "    }\n",
       "</style>\n",
       "<table border=\"1\" class=\"dataframe\">\n",
       "  <thead>\n",
       "    <tr style=\"text-align: right;\">\n",
       "      <th></th>\n",
       "      <th>show_id</th>\n",
       "      <th>type</th>\n",
       "      <th>title</th>\n",
       "      <th>director</th>\n",
       "      <th>cast</th>\n",
       "      <th>country</th>\n",
       "      <th>date_added</th>\n",
       "      <th>release_year</th>\n",
       "      <th>rating</th>\n",
       "      <th>duration</th>\n",
       "      <th>listed_in</th>\n",
       "      <th>description</th>\n",
       "    </tr>\n",
       "  </thead>\n",
       "  <tbody>\n",
       "    <tr>\n",
       "      <th>0</th>\n",
       "      <td>s1</td>\n",
       "      <td>Movie</td>\n",
       "      <td>Dick Johnson Is Dead</td>\n",
       "      <td>Kirsten Johnson</td>\n",
       "      <td>NaN</td>\n",
       "      <td>United States</td>\n",
       "      <td>September 25, 2021</td>\n",
       "      <td>2020</td>\n",
       "      <td>PG-13</td>\n",
       "      <td>90 min</td>\n",
       "      <td>Documentaries</td>\n",
       "      <td>As her father nears the end of his life, filmm...</td>\n",
       "    </tr>\n",
       "    <tr>\n",
       "      <th>1</th>\n",
       "      <td>s2</td>\n",
       "      <td>TV Show</td>\n",
       "      <td>Blood &amp; Water</td>\n",
       "      <td>NaN</td>\n",
       "      <td>Ama Qamata, Khosi Ngema, Gail Mabalane, Thaban...</td>\n",
       "      <td>South Africa</td>\n",
       "      <td>September 24, 2021</td>\n",
       "      <td>2021</td>\n",
       "      <td>TV-MA</td>\n",
       "      <td>2 Seasons</td>\n",
       "      <td>International TV Shows, TV Dramas, TV Mysteries</td>\n",
       "      <td>After crossing paths at a party, a Cape Town t...</td>\n",
       "    </tr>\n",
       "    <tr>\n",
       "      <th>2</th>\n",
       "      <td>s3</td>\n",
       "      <td>TV Show</td>\n",
       "      <td>Ganglands</td>\n",
       "      <td>Julien Leclercq</td>\n",
       "      <td>Sami Bouajila, Tracy Gotoas, Samuel Jouy, Nabi...</td>\n",
       "      <td>NaN</td>\n",
       "      <td>September 24, 2021</td>\n",
       "      <td>2021</td>\n",
       "      <td>TV-MA</td>\n",
       "      <td>1 Season</td>\n",
       "      <td>Crime TV Shows, International TV Shows, TV Act...</td>\n",
       "      <td>To protect his family from a powerful drug lor...</td>\n",
       "    </tr>\n",
       "    <tr>\n",
       "      <th>3</th>\n",
       "      <td>s4</td>\n",
       "      <td>TV Show</td>\n",
       "      <td>Jailbirds New Orleans</td>\n",
       "      <td>NaN</td>\n",
       "      <td>NaN</td>\n",
       "      <td>NaN</td>\n",
       "      <td>September 24, 2021</td>\n",
       "      <td>2021</td>\n",
       "      <td>TV-MA</td>\n",
       "      <td>1 Season</td>\n",
       "      <td>Docuseries, Reality TV</td>\n",
       "      <td>Feuds, flirtations and toilet talk go down amo...</td>\n",
       "    </tr>\n",
       "    <tr>\n",
       "      <th>4</th>\n",
       "      <td>s5</td>\n",
       "      <td>TV Show</td>\n",
       "      <td>Kota Factory</td>\n",
       "      <td>NaN</td>\n",
       "      <td>Mayur More, Jitendra Kumar, Ranjan Raj, Alam K...</td>\n",
       "      <td>India</td>\n",
       "      <td>September 24, 2021</td>\n",
       "      <td>2021</td>\n",
       "      <td>TV-MA</td>\n",
       "      <td>2 Seasons</td>\n",
       "      <td>International TV Shows, Romantic TV Shows, TV ...</td>\n",
       "      <td>In a city of coaching centers known to train I...</td>\n",
       "    </tr>\n",
       "  </tbody>\n",
       "</table>\n",
       "</div>"
      ],
      "text/plain": [
       "  show_id     type                  title         director  \\\n",
       "0      s1    Movie   Dick Johnson Is Dead  Kirsten Johnson   \n",
       "1      s2  TV Show          Blood & Water              NaN   \n",
       "2      s3  TV Show              Ganglands  Julien Leclercq   \n",
       "3      s4  TV Show  Jailbirds New Orleans              NaN   \n",
       "4      s5  TV Show           Kota Factory              NaN   \n",
       "\n",
       "                                                cast        country  \\\n",
       "0                                                NaN  United States   \n",
       "1  Ama Qamata, Khosi Ngema, Gail Mabalane, Thaban...   South Africa   \n",
       "2  Sami Bouajila, Tracy Gotoas, Samuel Jouy, Nabi...            NaN   \n",
       "3                                                NaN            NaN   \n",
       "4  Mayur More, Jitendra Kumar, Ranjan Raj, Alam K...          India   \n",
       "\n",
       "           date_added  release_year rating   duration  \\\n",
       "0  September 25, 2021          2020  PG-13     90 min   \n",
       "1  September 24, 2021          2021  TV-MA  2 Seasons   \n",
       "2  September 24, 2021          2021  TV-MA   1 Season   \n",
       "3  September 24, 2021          2021  TV-MA   1 Season   \n",
       "4  September 24, 2021          2021  TV-MA  2 Seasons   \n",
       "\n",
       "                                           listed_in  \\\n",
       "0                                      Documentaries   \n",
       "1    International TV Shows, TV Dramas, TV Mysteries   \n",
       "2  Crime TV Shows, International TV Shows, TV Act...   \n",
       "3                             Docuseries, Reality TV   \n",
       "4  International TV Shows, Romantic TV Shows, TV ...   \n",
       "\n",
       "                                         description  \n",
       "0  As her father nears the end of his life, filmm...  \n",
       "1  After crossing paths at a party, a Cape Town t...  \n",
       "2  To protect his family from a powerful drug lor...  \n",
       "3  Feuds, flirtations and toilet talk go down amo...  \n",
       "4  In a city of coaching centers known to train I...  "
      ]
     },
     "execution_count": 21,
     "metadata": {},
     "output_type": "execute_result"
    }
   ],
   "source": [
    "df.head()"
   ]
  },
  {
   "cell_type": "code",
   "execution_count": 22,
   "metadata": {
    "execution": {
     "iopub.execute_input": "2022-07-14T12:38:04.903367Z",
     "iopub.status.busy": "2022-07-14T12:38:04.902848Z",
     "iopub.status.idle": "2022-07-14T12:38:04.927053Z",
     "shell.execute_reply": "2022-07-14T12:38:04.925509Z",
     "shell.execute_reply.started": "2022-07-14T12:38:04.903321Z"
    }
   },
   "outputs": [
    {
     "data": {
      "text/html": [
       "<div>\n",
       "<style scoped>\n",
       "    .dataframe tbody tr th:only-of-type {\n",
       "        vertical-align: middle;\n",
       "    }\n",
       "\n",
       "    .dataframe tbody tr th {\n",
       "        vertical-align: top;\n",
       "    }\n",
       "\n",
       "    .dataframe thead th {\n",
       "        text-align: right;\n",
       "    }\n",
       "</style>\n",
       "<table border=\"1\" class=\"dataframe\">\n",
       "  <thead>\n",
       "    <tr style=\"text-align: right;\">\n",
       "      <th></th>\n",
       "      <th>show_id</th>\n",
       "      <th>type</th>\n",
       "      <th>title</th>\n",
       "      <th>director</th>\n",
       "      <th>cast</th>\n",
       "      <th>country</th>\n",
       "      <th>date_added</th>\n",
       "      <th>release_year</th>\n",
       "      <th>rating</th>\n",
       "      <th>duration</th>\n",
       "      <th>listed_in</th>\n",
       "      <th>description</th>\n",
       "    </tr>\n",
       "  </thead>\n",
       "  <tbody>\n",
       "    <tr>\n",
       "      <th>1059</th>\n",
       "      <td>s1060</td>\n",
       "      <td>TV Show</td>\n",
       "      <td>House of Cards</td>\n",
       "      <td>NaN</td>\n",
       "      <td>Kevin Spacey, Robin Wright, Kate Mara, Corey S...</td>\n",
       "      <td>United States</td>\n",
       "      <td>April 14, 2021</td>\n",
       "      <td>2018</td>\n",
       "      <td>TV-MA</td>\n",
       "      <td>6 Seasons</td>\n",
       "      <td>TV Dramas, TV Thrillers</td>\n",
       "      <td>A ruthless politician will stop at nothing to ...</td>\n",
       "    </tr>\n",
       "  </tbody>\n",
       "</table>\n",
       "</div>"
      ],
      "text/plain": [
       "     show_id     type           title director  \\\n",
       "1059   s1060  TV Show  House of Cards      NaN   \n",
       "\n",
       "                                                   cast        country  \\\n",
       "1059  Kevin Spacey, Robin Wright, Kate Mara, Corey S...  United States   \n",
       "\n",
       "          date_added  release_year rating   duration                listed_in  \\\n",
       "1059  April 14, 2021          2018  TV-MA  6 Seasons  TV Dramas, TV Thrillers   \n",
       "\n",
       "                                            description  \n",
       "1059  A ruthless politician will stop at nothing to ...  "
      ]
     },
     "execution_count": 22,
     "metadata": {},
     "output_type": "execute_result"
    }
   ],
   "source": [
    "df[df['title'].isin(['House of Cards'])]"
   ]
  },
  {
   "cell_type": "code",
   "execution_count": 23,
   "metadata": {
    "execution": {
     "iopub.execute_input": "2022-07-14T12:38:04.928649Z",
     "iopub.status.busy": "2022-07-14T12:38:04.928173Z",
     "iopub.status.idle": "2022-07-14T12:38:04.950291Z",
     "shell.execute_reply": "2022-07-14T12:38:04.949113Z",
     "shell.execute_reply.started": "2022-07-14T12:38:04.92858Z"
    }
   },
   "outputs": [
    {
     "data": {
      "text/html": [
       "<div>\n",
       "<style scoped>\n",
       "    .dataframe tbody tr th:only-of-type {\n",
       "        vertical-align: middle;\n",
       "    }\n",
       "\n",
       "    .dataframe tbody tr th {\n",
       "        vertical-align: top;\n",
       "    }\n",
       "\n",
       "    .dataframe thead th {\n",
       "        text-align: right;\n",
       "    }\n",
       "</style>\n",
       "<table border=\"1\" class=\"dataframe\">\n",
       "  <thead>\n",
       "    <tr style=\"text-align: right;\">\n",
       "      <th></th>\n",
       "      <th>show_id</th>\n",
       "      <th>type</th>\n",
       "      <th>title</th>\n",
       "      <th>director</th>\n",
       "      <th>cast</th>\n",
       "      <th>country</th>\n",
       "      <th>date_added</th>\n",
       "      <th>release_year</th>\n",
       "      <th>rating</th>\n",
       "      <th>duration</th>\n",
       "      <th>listed_in</th>\n",
       "      <th>description</th>\n",
       "    </tr>\n",
       "  </thead>\n",
       "  <tbody>\n",
       "    <tr>\n",
       "      <th>1059</th>\n",
       "      <td>s1060</td>\n",
       "      <td>TV Show</td>\n",
       "      <td>House of Cards</td>\n",
       "      <td>NaN</td>\n",
       "      <td>Kevin Spacey, Robin Wright, Kate Mara, Corey S...</td>\n",
       "      <td>United States</td>\n",
       "      <td>April 14, 2021</td>\n",
       "      <td>2018</td>\n",
       "      <td>TV-MA</td>\n",
       "      <td>6 Seasons</td>\n",
       "      <td>TV Dramas, TV Thrillers</td>\n",
       "      <td>A ruthless politician will stop at nothing to ...</td>\n",
       "    </tr>\n",
       "  </tbody>\n",
       "</table>\n",
       "</div>"
      ],
      "text/plain": [
       "     show_id     type           title director  \\\n",
       "1059   s1060  TV Show  House of Cards      NaN   \n",
       "\n",
       "                                                   cast        country  \\\n",
       "1059  Kevin Spacey, Robin Wright, Kate Mara, Corey S...  United States   \n",
       "\n",
       "          date_added  release_year rating   duration                listed_in  \\\n",
       "1059  April 14, 2021          2018  TV-MA  6 Seasons  TV Dramas, TV Thrillers   \n",
       "\n",
       "                                            description  \n",
       "1059  A ruthless politician will stop at nothing to ...  "
      ]
     },
     "execution_count": 23,
     "metadata": {},
     "output_type": "execute_result"
    }
   ],
   "source": [
    "df[df['title'].str.contains('House of Cards')]"
   ]
  },
  {
   "cell_type": "markdown",
   "metadata": {},
   "source": [
    "**2) In which year the highest number of the TV Shows & Movies were released ? Show with Bar Graph.**"
   ]
  },
  {
   "cell_type": "code",
   "execution_count": 24,
   "metadata": {
    "execution": {
     "iopub.execute_input": "2022-07-14T12:38:04.953439Z",
     "iopub.status.busy": "2022-07-14T12:38:04.951514Z",
     "iopub.status.idle": "2022-07-14T12:38:04.977136Z",
     "shell.execute_reply": "2022-07-14T12:38:04.97577Z",
     "shell.execute_reply.started": "2022-07-14T12:38:04.953398Z"
    }
   },
   "outputs": [
    {
     "name": "stdout",
     "output_type": "stream",
     "text": [
      "<class 'pandas.core.frame.DataFrame'>\n",
      "Int64Index: 8807 entries, 0 to 8806\n",
      "Data columns (total 12 columns):\n",
      " #   Column        Non-Null Count  Dtype \n",
      "---  ------        --------------  ----- \n",
      " 0   show_id       8807 non-null   object\n",
      " 1   type          8807 non-null   object\n",
      " 2   title         8807 non-null   object\n",
      " 3   director      6173 non-null   object\n",
      " 4   cast          7982 non-null   object\n",
      " 5   country       7976 non-null   object\n",
      " 6   date_added    8797 non-null   object\n",
      " 7   release_year  8807 non-null   int64 \n",
      " 8   rating        8803 non-null   object\n",
      " 9   duration      8804 non-null   object\n",
      " 10  listed_in     8807 non-null   object\n",
      " 11  description   8807 non-null   object\n",
      "dtypes: int64(1), object(11)\n",
      "memory usage: 894.5+ KB\n"
     ]
    }
   ],
   "source": [
    "df.info()"
   ]
  },
  {
   "cell_type": "code",
   "execution_count": 30,
   "metadata": {
    "execution": {
     "iopub.execute_input": "2022-07-14T12:38:04.978899Z",
     "iopub.status.busy": "2022-07-14T12:38:04.978411Z",
     "iopub.status.idle": "2022-07-14T12:38:05.803051Z",
     "shell.execute_reply": "2022-07-14T12:38:05.80178Z",
     "shell.execute_reply.started": "2022-07-14T12:38:04.978854Z"
    }
   },
   "outputs": [
    {
     "data": {
      "text/plain": [
       "<AxesSubplot:>"
      ]
     },
     "execution_count": 30,
     "metadata": {},
     "output_type": "execute_result"
    },
    {
     "data": {
      "image/png": "[encoded data removed]",
      "text/plain": [
       "<Figure size 432x288 with 1 Axes>"
      ]
     },
     "metadata": {
      "needs_background": "light"
     },
     "output_type": "display_data"
    }
   ],
   "source": [
    "df.release_year.value_counts().plot(kind ='bar')"
   ]
  },
  {
   "cell_type": "code",
   "execution_count": 32,
   "metadata": {
    "execution": {
     "iopub.execute_input": "2022-07-14T12:38:51.26833Z",
     "iopub.status.busy": "2022-07-14T12:38:51.267966Z",
     "iopub.status.idle": "2022-07-14T12:38:52.39486Z",
     "shell.execute_reply": "2022-07-14T12:38:52.393692Z",
     "shell.execute_reply.started": "2022-07-14T12:38:51.2683Z"
    }
   },
   "outputs": [
    {
     "name": "stderr",
     "output_type": "stream",
     "text": [
      "C:\\Users\\HP\\anaconda3\\lib\\site-packages\\seaborn\\_decorators.py:36: FutureWarning: Pass the following variables as keyword args: x, y. From version 0.12, the only valid positional argument will be `data`, and passing other arguments without an explicit keyword will result in an error or misinterpretation.\n",
      "  warnings.warn(\n"
     ]
    },
    {
     "data": {
      "text/plain": [
       "<AxesSubplot:xlabel='release_year', ylabel='release_year'>"
      ]
     },
     "execution_count": 32,
     "metadata": {},
     "output_type": "execute_result"
    },
    {
     "data": {
      "image/png": "[encoded data removed]",
      "text/plain": [
       "<Figure size 1440x360 with 1 Axes>"
      ]
     },
     "metadata": {
      "needs_background": "light"
     },
     "output_type": "display_data"
    }
   ],
   "source": [
    "plt.figure(figsize = (20, 5))\n",
    "sns.barplot(df.release_year , df.release_year.value_counts() )"
   ]
  },
  {
   "cell_type": "markdown",
   "metadata": {},
   "source": [
    "**3) How many Movies & TV Shows are in the dataset ? Show with Bar Graph.**"
   ]
  },
  {
   "cell_type": "code",
   "execution_count": 33,
   "metadata": {
    "execution": {
     "iopub.execute_input": "2022-07-14T12:39:00.144545Z",
     "iopub.status.busy": "2022-07-14T12:39:00.143389Z",
     "iopub.status.idle": "2022-07-14T12:39:00.306572Z",
     "shell.execute_reply": "2022-07-14T12:39:00.305659Z",
     "shell.execute_reply.started": "2022-07-14T12:39:00.144501Z"
    }
   },
   "outputs": [
    {
     "data": {
      "text/plain": [
       "<AxesSubplot:>"
      ]
     },
     "execution_count": 33,
     "metadata": {},
     "output_type": "execute_result"
    },
    {
     "data": {
      "image/png": "[encoded data removed]",
      "text/plain": [
       "<Figure size 432x288 with 1 Axes>"
      ]
     },
     "metadata": {
      "needs_background": "light"
     },
     "output_type": "display_data"
    }
   ],
   "source": [
    "df.type.value_counts().plot(kind = 'bar')"
   ]
  },
  {
   "cell_type": "code",
   "execution_count": 34,
   "metadata": {
    "execution": {
     "iopub.execute_input": "2022-07-14T12:39:04.930181Z",
     "iopub.status.busy": "2022-07-14T12:39:04.92975Z",
     "iopub.status.idle": "2022-07-14T12:39:05.106261Z",
     "shell.execute_reply": "2022-07-14T12:39:05.104947Z",
     "shell.execute_reply.started": "2022-07-14T12:39:04.930146Z"
    }
   },
   "outputs": [
    {
     "data": {
      "text/plain": [
       "<AxesSubplot:xlabel='type'>"
      ]
     },
     "execution_count": 34,
     "metadata": {},
     "output_type": "execute_result"
    },
    {
     "data": {
      "image/png": "[encoded data removed]",
      "text/plain": [
       "<Figure size 432x288 with 1 Axes>"
      ]
     },
     "metadata": {
      "needs_background": "light"
     },
     "output_type": "display_data"
    }
   ],
   "source": [
    "df.groupby('type').type.count().plot(kind  ='bar')"
   ]
  },
  {
   "cell_type": "code",
   "execution_count": 40,
   "metadata": {
    "execution": {
     "iopub.execute_input": "2022-07-14T12:39:09.297451Z",
     "iopub.status.busy": "2022-07-14T12:39:09.297036Z",
     "iopub.status.idle": "2022-07-14T12:39:09.469066Z",
     "shell.execute_reply": "2022-07-14T12:39:09.468139Z",
     "shell.execute_reply.started": "2022-07-14T12:39:09.297417Z"
    }
   },
   "outputs": [
    {
     "name": "stderr",
     "output_type": "stream",
     "text": [
      "C:\\Users\\HP\\anaconda3\\lib\\site-packages\\seaborn\\_decorators.py:36: FutureWarning: Pass the following variable as a keyword arg: x. From version 0.12, the only valid positional argument will be `data`, and passing other arguments without an explicit keyword will result in an error or misinterpretation.\n",
      "  warnings.warn(\n"
     ]
    },
    {
     "data": {
      "text/plain": [
       "<AxesSubplot:xlabel='type', ylabel='count'>"
      ]
     },
     "execution_count": 40,
     "metadata": {},
     "output_type": "execute_result"
    },
    {
     "data": {
      "image/png": "[encoded data removed]",
      "text/plain": [
       "<Figure size 432x288 with 1 Axes>"
      ]
     },
     "metadata": {
      "needs_background": "light"
     },
     "output_type": "display_data"
    }
   ],
   "source": [
    "sns.countplot(df['type'])"
   ]
  },
  {
   "cell_type": "code",
   "execution_count": 41,
   "metadata": {
    "execution": {
     "iopub.execute_input": "2022-07-14T12:39:14.06786Z",
     "iopub.status.busy": "2022-07-14T12:39:14.067438Z",
     "iopub.status.idle": "2022-07-14T12:39:14.074819Z",
     "shell.execute_reply": "2022-07-14T12:39:14.073932Z",
     "shell.execute_reply.started": "2022-07-14T12:39:14.067823Z"
    }
   },
   "outputs": [
    {
     "data": {
      "text/plain": [
       "Index(['show_id', 'type', 'title', 'director', 'cast', 'country', 'date_added',\n",
       "       'release_year', 'rating', 'duration', 'listed_in', 'description'],\n",
       "      dtype='object')"
      ]
     },
     "execution_count": 41,
     "metadata": {},
     "output_type": "execute_result"
    }
   ],
   "source": [
    "df.columns"
   ]
  },
  {
   "cell_type": "code",
   "execution_count": null,
   "metadata": {},
   "outputs": [],
   "source": []
  },
  {
   "cell_type": "markdown",
   "metadata": {},
   "source": [
    "**Q. 4) Show all the Movies that were released in year 2000**"
   ]
  },
  {
   "cell_type": "code",
   "execution_count": 42,
   "metadata": {
    "execution": {
     "iopub.execute_input": "2022-07-14T12:39:17.757953Z",
     "iopub.status.busy": "2022-07-14T12:39:17.757263Z",
     "iopub.status.idle": "2022-07-14T12:39:17.768744Z",
     "shell.execute_reply": "2022-07-14T12:39:17.767839Z",
     "shell.execute_reply.started": "2022-07-14T12:39:17.757905Z"
    }
   },
   "outputs": [
    {
     "data": {
      "text/plain": [
       "180                    The Nutty Professor II: The Klumps\n",
       "350                                         Space Cowboys\n",
       "359                          The Original Kings of Comedy\n",
       "566                                      Charlie's Angels\n",
       "593                                              Snow Day\n",
       "779                                     Battlefield Earth\n",
       "952                                  The Whole Nine Yards\n",
       "3472                          Rugrats in Paris: The Movie\n",
       "4545               Monty Python: Before the Flying Circus\n",
       "4723                                                 Fiza\n",
       "4956                          Phir Bhi Dil Hai Hindustani\n",
       "5953                               Joseph: King of Dreams\n",
       "6006                                              28 Days\n",
       "6147                                      American Psycho\n",
       "6154    An American Tail: The Treasures of Manhattan I...\n",
       "6311                                         Billy Elliot\n",
       "6437                                         Center Stage\n",
       "6440                                       Chal Mere Bhai\n",
       "6543                       Crouching Tiger, Hidden Dragon\n",
       "6643                         Dragonheart: A New Beginning\n",
       "6753                                    Final Destination\n",
       "6912                            Hamara Dil Aapke Paas Hai\n",
       "7013                       How the Grinch Stole Christmas\n",
       "7247                                            Kya Kehna\n",
       "7316                                         Little Nicky\n",
       "7702                                       Papa the Great\n",
       "7801                                                Pukar\n",
       "7955                                          Scary Movie\n",
       "7962                                             Scream 3\n",
       "8196                                       The Art of War\n",
       "8305                   The Flintstones in Viva Rock Vegas\n",
       "8722                                    What Lies Beneath\n",
       "8729                                   Where the Money Is\n",
       "Name: title, dtype: object"
      ]
     },
     "execution_count": 42,
     "metadata": {},
     "output_type": "execute_result"
    }
   ],
   "source": [
    "df[(df.type == 'Movie') & (df.release_year == 2000)]['title']"
   ]
  },
  {
   "cell_type": "markdown",
   "metadata": {},
   "source": [
    "**Q. 5) Show only the Titles of all TV Shows that were released in India only.**"
   ]
  },
  {
   "cell_type": "code",
   "execution_count": 46,
   "metadata": {
    "execution": {
     "iopub.execute_input": "2022-07-14T12:39:22.787667Z",
     "iopub.status.busy": "2022-07-14T12:39:22.787223Z",
     "iopub.status.idle": "2022-07-14T12:39:22.801808Z",
     "shell.execute_reply": "2022-07-14T12:39:22.800493Z",
     "shell.execute_reply.started": "2022-07-14T12:39:22.787623Z"
    }
   },
   "outputs": [
    {
     "data": {
      "text/plain": [
       "4                             Kota Factory\n",
       "39                            Chhota Bheem\n",
       "50                           Dharmakshetra\n",
       "66           Raja Rasoi Aur Anya Kahaniyan\n",
       "69          Stories by Rabindranath Tagore\n",
       "                       ...                \n",
       "8173                             Thackeray\n",
       "8235                           The Calling\n",
       "8321    The Golden Years with Javed Akhtar\n",
       "8349                The House That Made Me\n",
       "8775                       Yeh Meri Family\n",
       "Name: title, Length: 79, dtype: object"
      ]
     },
     "execution_count": 46,
     "metadata": {},
     "output_type": "execute_result"
    }
   ],
   "source": [
    "df[(df.country == 'India') & (df.type == 'TV Show')]['title']"
   ]
  },
  {
   "cell_type": "markdown",
   "metadata": {},
   "source": [
    "**Q. 6) Show Top 10 Directors, who gave the highest number of TV Shows & Movies to Netflix ?**"
   ]
  },
  {
   "cell_type": "code",
   "execution_count": 47,
   "metadata": {
    "execution": {
     "iopub.status.busy": "2022-07-14T12:38:05.829813Z",
     "iopub.status.idle": "2022-07-14T12:38:05.830539Z",
     "shell.execute_reply": "2022-07-14T12:38:05.830333Z",
     "shell.execute_reply.started": "2022-07-14T12:38:05.830313Z"
    }
   },
   "outputs": [
    {
     "data": {
      "text/plain": [
       "Rajiv Chilaka             19\n",
       "Raúl Campos, Jan Suter    18\n",
       "Marcus Raboy              16\n",
       "Suhas Kadav               16\n",
       "Jay Karas                 14\n",
       "Cathy Garcia-Molina       13\n",
       "Martin Scorsese           12\n",
       "Youssef Chahine           12\n",
       "Jay Chapman               12\n",
       "Steven Spielberg          11\n",
       "Name: director, dtype: int64"
      ]
     },
     "execution_count": 47,
     "metadata": {},
     "output_type": "execute_result"
    }
   ],
   "source": [
    "df['director'].value_counts().head(10)"
   ]
  },
  {
   "cell_type": "code",
   "execution_count": null,
   "metadata": {},
   "outputs": [],
   "source": []
  },
  {
   "cell_type": "markdown",
   "metadata": {},
   "source": [
    "**Q. 7) Show all the Records, where \"Category is Movie and Type is Comedies\" or \"Country is United Kingdom\".**"
   ]
  },
  {
   "cell_type": "code",
   "execution_count": 48,
   "metadata": {
    "execution": {
     "iopub.execute_input": "2022-07-14T12:39:27.607522Z",
     "iopub.status.busy": "2022-07-14T12:39:27.607069Z",
     "iopub.status.idle": "2022-07-14T12:39:27.638754Z",
     "shell.execute_reply": "2022-07-14T12:39:27.637642Z",
     "shell.execute_reply.started": "2022-07-14T12:39:27.607486Z"
    }
   },
   "outputs": [
    {
     "data": {
      "text/html": [
       "<div>\n",
       "<style scoped>\n",
       "    .dataframe tbody tr th:only-of-type {\n",
       "        vertical-align: middle;\n",
       "    }\n",
       "\n",
       "    .dataframe tbody tr th {\n",
       "        vertical-align: top;\n",
       "    }\n",
       "\n",
       "    .dataframe thead th {\n",
       "        text-align: right;\n",
       "    }\n",
       "</style>\n",
       "<table border=\"1\" class=\"dataframe\">\n",
       "  <thead>\n",
       "    <tr style=\"text-align: right;\">\n",
       "      <th></th>\n",
       "      <th>show_id</th>\n",
       "      <th>type</th>\n",
       "      <th>title</th>\n",
       "      <th>director</th>\n",
       "      <th>cast</th>\n",
       "      <th>country</th>\n",
       "      <th>date_added</th>\n",
       "      <th>release_year</th>\n",
       "      <th>rating</th>\n",
       "      <th>duration</th>\n",
       "      <th>listed_in</th>\n",
       "      <th>description</th>\n",
       "    </tr>\n",
       "  </thead>\n",
       "  <tbody>\n",
       "    <tr>\n",
       "      <th>8</th>\n",
       "      <td>s9</td>\n",
       "      <td>TV Show</td>\n",
       "      <td>The Great British Baking Show</td>\n",
       "      <td>Andy Devonshire</td>\n",
       "      <td>Mel Giedroyc, Sue Perkins, Mary Berry, Paul Ho...</td>\n",
       "      <td>United Kingdom</td>\n",
       "      <td>September 24, 2021</td>\n",
       "      <td>2021</td>\n",
       "      <td>TV-14</td>\n",
       "      <td>9 Seasons</td>\n",
       "      <td>British TV Shows, Reality TV</td>\n",
       "      <td>A talented batch of amateur bakers face off in...</td>\n",
       "    </tr>\n",
       "    <tr>\n",
       "      <th>27</th>\n",
       "      <td>s28</td>\n",
       "      <td>Movie</td>\n",
       "      <td>Grown Ups</td>\n",
       "      <td>Dennis Dugan</td>\n",
       "      <td>Adam Sandler, Kevin James, Chris Rock, David S...</td>\n",
       "      <td>United States</td>\n",
       "      <td>September 20, 2021</td>\n",
       "      <td>2010</td>\n",
       "      <td>PG-13</td>\n",
       "      <td>103 min</td>\n",
       "      <td>Comedies</td>\n",
       "      <td>Mourning the loss of their beloved junior high...</td>\n",
       "    </tr>\n",
       "    <tr>\n",
       "      <th>32</th>\n",
       "      <td>s33</td>\n",
       "      <td>TV Show</td>\n",
       "      <td>Sex Education</td>\n",
       "      <td>NaN</td>\n",
       "      <td>Asa Butterfield, Gillian Anderson, Ncuti Gatwa...</td>\n",
       "      <td>United Kingdom</td>\n",
       "      <td>September 17, 2021</td>\n",
       "      <td>2020</td>\n",
       "      <td>TV-MA</td>\n",
       "      <td>3 Seasons</td>\n",
       "      <td>British TV Shows, International TV Shows, TV C...</td>\n",
       "      <td>Insecure Otis has all the answers when it come...</td>\n",
       "    </tr>\n",
       "    <tr>\n",
       "      <th>65</th>\n",
       "      <td>s66</td>\n",
       "      <td>TV Show</td>\n",
       "      <td>Numberblocks</td>\n",
       "      <td>NaN</td>\n",
       "      <td>Beth Chalmers, David Holt, Marcel McCalla, Ter...</td>\n",
       "      <td>United Kingdom</td>\n",
       "      <td>September 15, 2021</td>\n",
       "      <td>2021</td>\n",
       "      <td>TV-Y</td>\n",
       "      <td>6 Seasons</td>\n",
       "      <td>Kids' TV</td>\n",
       "      <td>In a place called Numberland, math adds up to ...</td>\n",
       "    </tr>\n",
       "    <tr>\n",
       "      <th>72</th>\n",
       "      <td>s73</td>\n",
       "      <td>TV Show</td>\n",
       "      <td>Jack Whitehall: Travels with My Father</td>\n",
       "      <td>NaN</td>\n",
       "      <td>Jack Whitehall, Michael Whitehall</td>\n",
       "      <td>United Kingdom</td>\n",
       "      <td>September 14, 2021</td>\n",
       "      <td>2021</td>\n",
       "      <td>TV-MA</td>\n",
       "      <td>5 Seasons</td>\n",
       "      <td>British TV Shows, Docuseries, International TV...</td>\n",
       "      <td>Jovial comic Jack Whitehall invites his stuffy...</td>\n",
       "    </tr>\n",
       "    <tr>\n",
       "      <th>...</th>\n",
       "      <td>...</td>\n",
       "      <td>...</td>\n",
       "      <td>...</td>\n",
       "      <td>...</td>\n",
       "      <td>...</td>\n",
       "      <td>...</td>\n",
       "      <td>...</td>\n",
       "      <td>...</td>\n",
       "      <td>...</td>\n",
       "      <td>...</td>\n",
       "      <td>...</td>\n",
       "      <td>...</td>\n",
       "    </tr>\n",
       "    <tr>\n",
       "      <th>8740</th>\n",
       "      <td>s8741</td>\n",
       "      <td>TV Show</td>\n",
       "      <td>Wild Alaska</td>\n",
       "      <td>NaN</td>\n",
       "      <td>Dougray Scott</td>\n",
       "      <td>United Kingdom</td>\n",
       "      <td>March 31, 2017</td>\n",
       "      <td>2015</td>\n",
       "      <td>TV-PG</td>\n",
       "      <td>1 Season</td>\n",
       "      <td>British TV Shows, Docuseries, Science &amp; Nature TV</td>\n",
       "      <td>The natural bounty of Alaska sustains its dive...</td>\n",
       "    </tr>\n",
       "    <tr>\n",
       "      <th>8741</th>\n",
       "      <td>s8742</td>\n",
       "      <td>TV Show</td>\n",
       "      <td>Wild Arabia</td>\n",
       "      <td>NaN</td>\n",
       "      <td>Alexander Siddig</td>\n",
       "      <td>United Kingdom</td>\n",
       "      <td>March 31, 2017</td>\n",
       "      <td>2013</td>\n",
       "      <td>TV-PG</td>\n",
       "      <td>1 Season</td>\n",
       "      <td>British TV Shows, Docuseries, Science &amp; Nature TV</td>\n",
       "      <td>The widely varied geology and dramatic landsca...</td>\n",
       "    </tr>\n",
       "    <tr>\n",
       "      <th>8744</th>\n",
       "      <td>s8745</td>\n",
       "      <td>Movie</td>\n",
       "      <td>Williams</td>\n",
       "      <td>Morgan Matthews</td>\n",
       "      <td>NaN</td>\n",
       "      <td>United Kingdom</td>\n",
       "      <td>November 4, 2017</td>\n",
       "      <td>2017</td>\n",
       "      <td>TV-MA</td>\n",
       "      <td>105 min</td>\n",
       "      <td>Documentaries, International Movies, Sports Mo...</td>\n",
       "      <td>This inspiring documentary charts the birth of...</td>\n",
       "    </tr>\n",
       "    <tr>\n",
       "      <th>8758</th>\n",
       "      <td>s8759</td>\n",
       "      <td>TV Show</td>\n",
       "      <td>World's Busiest Cities</td>\n",
       "      <td>NaN</td>\n",
       "      <td>Anita Rani, Ade Adepitan, Dan Snow</td>\n",
       "      <td>United Kingdom</td>\n",
       "      <td>February 1, 2019</td>\n",
       "      <td>2017</td>\n",
       "      <td>TV-PG</td>\n",
       "      <td>1 Season</td>\n",
       "      <td>British TV Shows, Docuseries</td>\n",
       "      <td>From Moscow to Mexico City, three BBC journali...</td>\n",
       "    </tr>\n",
       "    <tr>\n",
       "      <th>8786</th>\n",
       "      <td>s8787</td>\n",
       "      <td>Movie</td>\n",
       "      <td>You Can Tutu</td>\n",
       "      <td>James Brown</td>\n",
       "      <td>Lily O'Regan, Jeannettsy Enriquez Borges, Joel...</td>\n",
       "      <td>United Kingdom</td>\n",
       "      <td>December 31, 2017</td>\n",
       "      <td>2017</td>\n",
       "      <td>TV-G</td>\n",
       "      <td>87 min</td>\n",
       "      <td>Children &amp; Family Movies</td>\n",
       "      <td>A gifted young ballet dancer struggles to find...</td>\n",
       "    </tr>\n",
       "  </tbody>\n",
       "</table>\n",
       "<p>521 rows × 12 columns</p>\n",
       "</div>"
      ],
      "text/plain": [
       "     show_id     type                                   title  \\\n",
       "8         s9  TV Show           The Great British Baking Show   \n",
       "27       s28    Movie                               Grown Ups   \n",
       "32       s33  TV Show                           Sex Education   \n",
       "65       s66  TV Show                            Numberblocks   \n",
       "72       s73  TV Show  Jack Whitehall: Travels with My Father   \n",
       "...      ...      ...                                     ...   \n",
       "8740   s8741  TV Show                             Wild Alaska   \n",
       "8741   s8742  TV Show                             Wild Arabia   \n",
       "8744   s8745    Movie                                Williams   \n",
       "8758   s8759  TV Show                  World's Busiest Cities   \n",
       "8786   s8787    Movie                            You Can Tutu   \n",
       "\n",
       "             director                                               cast  \\\n",
       "8     Andy Devonshire  Mel Giedroyc, Sue Perkins, Mary Berry, Paul Ho...   \n",
       "27       Dennis Dugan  Adam Sandler, Kevin James, Chris Rock, David S...   \n",
       "32                NaN  Asa Butterfield, Gillian Anderson, Ncuti Gatwa...   \n",
       "65                NaN  Beth Chalmers, David Holt, Marcel McCalla, Ter...   \n",
       "72                NaN                  Jack Whitehall, Michael Whitehall   \n",
       "...               ...                                                ...   \n",
       "8740              NaN                                      Dougray Scott   \n",
       "8741              NaN                                   Alexander Siddig   \n",
       "8744  Morgan Matthews                                                NaN   \n",
       "8758              NaN                 Anita Rani, Ade Adepitan, Dan Snow   \n",
       "8786      James Brown  Lily O'Regan, Jeannettsy Enriquez Borges, Joel...   \n",
       "\n",
       "             country          date_added  release_year rating   duration  \\\n",
       "8     United Kingdom  September 24, 2021          2021  TV-14  9 Seasons   \n",
       "27     United States  September 20, 2021          2010  PG-13    103 min   \n",
       "32    United Kingdom  September 17, 2021          2020  TV-MA  3 Seasons   \n",
       "65    United Kingdom  September 15, 2021          2021   TV-Y  6 Seasons   \n",
       "72    United Kingdom  September 14, 2021          2021  TV-MA  5 Seasons   \n",
       "...              ...                 ...           ...    ...        ...   \n",
       "8740  United Kingdom      March 31, 2017          2015  TV-PG   1 Season   \n",
       "8741  United Kingdom      March 31, 2017          2013  TV-PG   1 Season   \n",
       "8744  United Kingdom    November 4, 2017          2017  TV-MA    105 min   \n",
       "8758  United Kingdom    February 1, 2019          2017  TV-PG   1 Season   \n",
       "8786  United Kingdom   December 31, 2017          2017   TV-G     87 min   \n",
       "\n",
       "                                              listed_in  \\\n",
       "8                          British TV Shows, Reality TV   \n",
       "27                                             Comedies   \n",
       "32    British TV Shows, International TV Shows, TV C...   \n",
       "65                                             Kids' TV   \n",
       "72    British TV Shows, Docuseries, International TV...   \n",
       "...                                                 ...   \n",
       "8740  British TV Shows, Docuseries, Science & Nature TV   \n",
       "8741  British TV Shows, Docuseries, Science & Nature TV   \n",
       "8744  Documentaries, International Movies, Sports Mo...   \n",
       "8758                       British TV Shows, Docuseries   \n",
       "8786                           Children & Family Movies   \n",
       "\n",
       "                                            description  \n",
       "8     A talented batch of amateur bakers face off in...  \n",
       "27    Mourning the loss of their beloved junior high...  \n",
       "32    Insecure Otis has all the answers when it come...  \n",
       "65    In a place called Numberland, math adds up to ...  \n",
       "72    Jovial comic Jack Whitehall invites his stuffy...  \n",
       "...                                                 ...  \n",
       "8740  The natural bounty of Alaska sustains its dive...  \n",
       "8741  The widely varied geology and dramatic landsca...  \n",
       "8744  This inspiring documentary charts the birth of...  \n",
       "8758  From Moscow to Mexico City, three BBC journali...  \n",
       "8786  A gifted young ballet dancer struggles to find...  \n",
       "\n",
       "[521 rows x 12 columns]"
      ]
     },
     "execution_count": 48,
     "metadata": {},
     "output_type": "execute_result"
    }
   ],
   "source": [
    "df[(df.type =='Movie') &(df.listed_in =='Comedies')|(df.country == 'United Kingdom')]"
   ]
  },
  {
   "cell_type": "code",
   "execution_count": 49,
   "metadata": {
    "execution": {
     "iopub.execute_input": "2022-07-14T12:39:35.027628Z",
     "iopub.status.busy": "2022-07-14T12:39:35.027215Z",
     "iopub.status.idle": "2022-07-14T12:39:35.036791Z",
     "shell.execute_reply": "2022-07-14T12:39:35.035173Z",
     "shell.execute_reply.started": "2022-07-14T12:39:35.027575Z"
    }
   },
   "outputs": [
    {
     "data": {
      "text/plain": [
       "0                                                     NaN\n",
       "1       Ama Qamata, Khosi Ngema, Gail Mabalane, Thaban...\n",
       "2       Sami Bouajila, Tracy Gotoas, Samuel Jouy, Nabi...\n",
       "3                                                     NaN\n",
       "4       Mayur More, Jitendra Kumar, Ranjan Raj, Alam K...\n",
       "                              ...                        \n",
       "8802    Mark Ruffalo, Jake Gyllenhaal, Robert Downey J...\n",
       "8803                                                  NaN\n",
       "8804    Jesse Eisenberg, Woody Harrelson, Emma Stone, ...\n",
       "8805    Tim Allen, Courteney Cox, Chevy Chase, Kate Ma...\n",
       "8806    Vicky Kaushal, Sarah-Jane Dias, Raaghav Chanan...\n",
       "Name: cast, Length: 8807, dtype: object"
      ]
     },
     "execution_count": 49,
     "metadata": {},
     "output_type": "execute_result"
    }
   ],
   "source": [
    "df.cast"
   ]
  },
  {
   "cell_type": "markdown",
   "metadata": {},
   "source": [
    "**Q. 8) In how many movies/shows, Tom Cruise was cast ?**"
   ]
  },
  {
   "cell_type": "code",
   "execution_count": 51,
   "metadata": {
    "execution": {
     "iopub.execute_input": "2022-07-14T12:44:28.745164Z",
     "iopub.status.busy": "2022-07-14T12:44:28.744122Z",
     "iopub.status.idle": "2022-07-14T12:44:28.773958Z",
     "shell.execute_reply": "2022-07-14T12:44:28.772709Z",
     "shell.execute_reply.started": "2022-07-14T12:44:28.745119Z"
    }
   },
   "outputs": [
    {
     "data": {
      "text/html": [
       "<div>\n",
       "<style scoped>\n",
       "    .dataframe tbody tr th:only-of-type {\n",
       "        vertical-align: middle;\n",
       "    }\n",
       "\n",
       "    .dataframe tbody tr th {\n",
       "        vertical-align: top;\n",
       "    }\n",
       "\n",
       "    .dataframe thead th {\n",
       "        text-align: right;\n",
       "    }\n",
       "</style>\n",
       "<table border=\"1\" class=\"dataframe\">\n",
       "  <thead>\n",
       "    <tr style=\"text-align: right;\">\n",
       "      <th></th>\n",
       "      <th>show_id</th>\n",
       "      <th>type</th>\n",
       "      <th>title</th>\n",
       "      <th>director</th>\n",
       "      <th>cast</th>\n",
       "      <th>country</th>\n",
       "      <th>date_added</th>\n",
       "      <th>release_year</th>\n",
       "      <th>rating</th>\n",
       "      <th>duration</th>\n",
       "      <th>listed_in</th>\n",
       "      <th>description</th>\n",
       "    </tr>\n",
       "  </thead>\n",
       "  <tbody>\n",
       "    <tr>\n",
       "      <th>341</th>\n",
       "      <td>s342</td>\n",
       "      <td>Movie</td>\n",
       "      <td>Magnolia</td>\n",
       "      <td>Paul Thomas Anderson</td>\n",
       "      <td>John C. Reilly, Philip Baker Hall, Tom Cruise,...</td>\n",
       "      <td>United States</td>\n",
       "      <td>August 1, 2021</td>\n",
       "      <td>1999</td>\n",
       "      <td>R</td>\n",
       "      <td>189 min</td>\n",
       "      <td>Dramas, Independent Movies</td>\n",
       "      <td>Through chance, history and divine interventio...</td>\n",
       "    </tr>\n",
       "    <tr>\n",
       "      <th>1254</th>\n",
       "      <td>s1255</td>\n",
       "      <td>Movie</td>\n",
       "      <td>Rain Man</td>\n",
       "      <td>Barry Levinson</td>\n",
       "      <td>Dustin Hoffman, Tom Cruise, Valeria Golino, Ge...</td>\n",
       "      <td>United States</td>\n",
       "      <td>March 1, 2021</td>\n",
       "      <td>1988</td>\n",
       "      <td>R</td>\n",
       "      <td>134 min</td>\n",
       "      <td>Classic Movies, Dramas</td>\n",
       "      <td>Motivated by money, a selfish workaholic seeki...</td>\n",
       "    </tr>\n",
       "  </tbody>\n",
       "</table>\n",
       "</div>"
      ],
      "text/plain": [
       "     show_id   type     title              director  \\\n",
       "341     s342  Movie  Magnolia  Paul Thomas Anderson   \n",
       "1254   s1255  Movie  Rain Man        Barry Levinson   \n",
       "\n",
       "                                                   cast        country  \\\n",
       "341   John C. Reilly, Philip Baker Hall, Tom Cruise,...  United States   \n",
       "1254  Dustin Hoffman, Tom Cruise, Valeria Golino, Ge...  United States   \n",
       "\n",
       "          date_added  release_year rating duration  \\\n",
       "341   August 1, 2021          1999      R  189 min   \n",
       "1254   March 1, 2021          1988      R  134 min   \n",
       "\n",
       "                       listed_in  \\\n",
       "341   Dramas, Independent Movies   \n",
       "1254      Classic Movies, Dramas   \n",
       "\n",
       "                                            description  \n",
       "341   Through chance, history and divine interventio...  \n",
       "1254  Motivated by money, a selfish workaholic seeki...  "
      ]
     },
     "execution_count": 51,
     "metadata": {},
     "output_type": "execute_result"
    }
   ],
   "source": [
    "#str .contains does not work on empty nan values we need to remove nan values \n",
    "\n",
    "df_new = df.dropna()\n",
    "df_new[df_new.cast.str.contains('Tom Cruise')]\n"
   ]
  },
  {
   "cell_type": "code",
   "execution_count": 52,
   "metadata": {
    "execution": {
     "iopub.execute_input": "2022-07-14T12:44:34.094647Z",
     "iopub.status.busy": "2022-07-14T12:44:34.094243Z",
     "iopub.status.idle": "2022-07-14T12:44:34.107406Z",
     "shell.execute_reply": "2022-07-14T12:44:34.10619Z",
     "shell.execute_reply.started": "2022-07-14T12:44:34.094588Z"
    }
   },
   "outputs": [
    {
     "data": {
      "text/plain": [
       "2"
      ]
     },
     "execution_count": 52,
     "metadata": {},
     "output_type": "execute_result"
    }
   ],
   "source": [
    "df_new[df_new.cast.str.contains('Tom Cruise')]['title'].value_counts().sum()"
   ]
  },
  {
   "cell_type": "markdown",
   "metadata": {},
   "source": [
    "**Q. 9) What are the different Ratings defined by Netflix ?**"
   ]
  },
  {
   "cell_type": "code",
   "execution_count": 68,
   "metadata": {
    "execution": {
     "iopub.execute_input": "2022-07-14T12:48:08.618651Z",
     "iopub.status.busy": "2022-07-14T12:48:08.618219Z",
     "iopub.status.idle": "2022-07-14T12:48:08.627802Z",
     "shell.execute_reply": "2022-07-14T12:48:08.626299Z",
     "shell.execute_reply.started": "2022-07-14T12:48:08.618616Z"
    }
   },
   "outputs": [
    {
     "data": {
      "text/plain": [
       "array(['PG-13', 'TV-MA', 'TV-MA', ..., 'R', 'PG', 'TV-14'], dtype=object)"
      ]
     },
     "execution_count": 68,
     "metadata": {},
     "output_type": "execute_result"
    }
   ],
   "source": [
    "df.rating.values"
   ]
  },
  {
   "cell_type": "code",
   "execution_count": 69,
   "metadata": {
    "execution": {
     "iopub.execute_input": "2022-07-14T12:48:55.604877Z",
     "iopub.status.busy": "2022-07-14T12:48:55.604385Z",
     "iopub.status.idle": "2022-07-14T12:48:55.614491Z",
     "shell.execute_reply": "2022-07-14T12:48:55.613579Z",
     "shell.execute_reply.started": "2022-07-14T12:48:55.604819Z"
    }
   },
   "outputs": [
    {
     "data": {
      "text/plain": [
       "array(['PG-13', 'TV-MA', 'PG', 'TV-14', 'TV-PG', 'TV-Y', 'TV-Y7', 'R',\n",
       "       'TV-G', 'G', 'NC-17', '74 min', '84 min', '66 min', 'NR', nan,\n",
       "       'TV-Y7-FV', 'UR'], dtype=object)"
      ]
     },
     "execution_count": 69,
     "metadata": {},
     "output_type": "execute_result"
    }
   ],
   "source": [
    "df.rating.unique()"
   ]
  },
  {
   "cell_type": "code",
   "execution_count": 70,
   "metadata": {
    "execution": {
     "iopub.execute_input": "2022-07-14T12:48:23.955154Z",
     "iopub.status.busy": "2022-07-14T12:48:23.95464Z",
     "iopub.status.idle": "2022-07-14T12:48:23.9648Z",
     "shell.execute_reply": "2022-07-14T12:48:23.96355Z",
     "shell.execute_reply.started": "2022-07-14T12:48:23.955105Z"
    }
   },
   "outputs": [
    {
     "data": {
      "text/plain": [
       "17"
      ]
     },
     "execution_count": 70,
     "metadata": {},
     "output_type": "execute_result"
    }
   ],
   "source": [
    "df.rating.nunique()"
   ]
  },
  {
   "cell_type": "markdown",
   "metadata": {},
   "source": [
    "**.1) How many Movies got the 'TV-14' rating, in Canada ?**"
   ]
  },
  {
   "cell_type": "code",
   "execution_count": 75,
   "metadata": {
    "execution": {
     "iopub.execute_input": "2022-07-14T12:53:05.373684Z",
     "iopub.status.busy": "2022-07-14T12:53:05.37313Z",
     "iopub.status.idle": "2022-07-14T12:53:05.388572Z",
     "shell.execute_reply": "2022-07-14T12:53:05.387536Z",
     "shell.execute_reply.started": "2022-07-14T12:53:05.373636Z"
    }
   },
   "outputs": [
    {
     "data": {
      "text/plain": [
       "13"
      ]
     },
     "execution_count": 75,
     "metadata": {},
     "output_type": "execute_result"
    }
   ],
   "source": [
    "df[(df.type == 'Movie')& (df.rating == 'TV-14')&(df.country == 'Canada')].shape[0]"
   ]
  },
  {
   "cell_type": "markdown",
   "metadata": {},
   "source": [
    "**. 9.2) How many TV Shows got the 'TV-MA' rating, after year 2018 ?**"
   ]
  },
  {
   "cell_type": "code",
   "execution_count": 76,
   "metadata": {
    "execution": {
     "iopub.execute_input": "2022-07-14T12:59:28.51584Z",
     "iopub.status.busy": "2022-07-14T12:59:28.515321Z",
     "iopub.status.idle": "2022-07-14T12:59:28.527807Z",
     "shell.execute_reply": "2022-07-14T12:59:28.526693Z",
     "shell.execute_reply.started": "2022-07-14T12:59:28.515796Z"
    }
   },
   "outputs": [
    {
     "data": {
      "text/plain": [
       "623"
      ]
     },
     "execution_count": 76,
     "metadata": {},
     "output_type": "execute_result"
    }
   ],
   "source": [
    "df[(df.type == 'TV Show') & (df.rating == 'TV-MA') &(df.release_year >2018)].shape[0]"
   ]
  },
  {
   "cell_type": "markdown",
   "metadata": {},
   "source": [
    "**10) What is the maximum duration of a Movie/Show on Netflix ?**"
   ]
  },
  {
   "cell_type": "code",
   "execution_count": 77,
   "metadata": {
    "execution": {
     "iopub.execute_input": "2022-07-14T13:02:16.05685Z",
     "iopub.status.busy": "2022-07-14T13:02:16.056235Z",
     "iopub.status.idle": "2022-07-14T13:02:16.070065Z",
     "shell.execute_reply": "2022-07-14T13:02:16.06843Z",
     "shell.execute_reply.started": "2022-07-14T13:02:16.056797Z"
    }
   },
   "outputs": [
    {
     "data": {
      "text/plain": [
       "array(['90 min', '2 Seasons', '1 Season', '91 min', '125 min',\n",
       "       '9 Seasons', '104 min', '127 min', '4 Seasons', '67 min', '94 min',\n",
       "       '5 Seasons', '161 min', '61 min', '166 min', '147 min', '103 min',\n",
       "       '97 min', '106 min', '111 min', '3 Seasons', '110 min', '105 min',\n",
       "       '96 min', '124 min', '116 min', '98 min', '23 min', '115 min',\n",
       "       '122 min', '99 min', '88 min', '100 min', '6 Seasons', '102 min',\n",
       "       '93 min', '95 min', '85 min', '83 min', '113 min', '13 min',\n",
       "       '182 min', '48 min', '145 min', '87 min', '92 min', '80 min',\n",
       "       '117 min', '128 min', '119 min', '143 min', '114 min', '118 min',\n",
       "       '108 min', '63 min', '121 min', '142 min', '154 min', '120 min',\n",
       "       '82 min', '109 min', '101 min', '86 min', '229 min', '76 min',\n",
       "       '89 min', '156 min', '112 min', '107 min', '129 min', '135 min',\n",
       "       '136 min', '165 min', '150 min', '133 min', '70 min', '84 min',\n",
       "       '140 min', '78 min', '7 Seasons', '64 min', '59 min', '139 min',\n",
       "       '69 min', '148 min', '189 min', '141 min', '130 min', '138 min',\n",
       "       '81 min', '132 min', '10 Seasons', '123 min', '65 min', '68 min',\n",
       "       '66 min', '62 min', '74 min', '131 min', '39 min', '46 min',\n",
       "       '38 min', '8 Seasons', '17 Seasons', '126 min', '155 min',\n",
       "       '159 min', '137 min', '12 min', '273 min', '36 min', '34 min',\n",
       "       '77 min', '60 min', '49 min', '58 min', '72 min', '204 min',\n",
       "       '212 min', '25 min', '73 min', '29 min', '47 min', '32 min',\n",
       "       '35 min', '71 min', '149 min', '33 min', '15 min', '54 min',\n",
       "       '224 min', '162 min', '37 min', '75 min', '79 min', '55 min',\n",
       "       '158 min', '164 min', '173 min', '181 min', '185 min', '21 min',\n",
       "       '24 min', '51 min', '151 min', '42 min', '22 min', '134 min',\n",
       "       '177 min', '13 Seasons', '52 min', '14 min', '53 min', '8 min',\n",
       "       '57 min', '28 min', '50 min', '9 min', '26 min', '45 min',\n",
       "       '171 min', '27 min', '44 min', '146 min', '20 min', '157 min',\n",
       "       '17 min', '203 min', '41 min', '30 min', '194 min', '15 Seasons',\n",
       "       '233 min', '237 min', '230 min', '195 min', '253 min', '152 min',\n",
       "       '190 min', '160 min', '208 min', '180 min', '144 min', '5 min',\n",
       "       '174 min', '170 min', '192 min', '209 min', '187 min', '172 min',\n",
       "       '16 min', '186 min', '11 min', '193 min', '176 min', '56 min',\n",
       "       '169 min', '40 min', '10 min', '3 min', '168 min', '312 min',\n",
       "       '153 min', '214 min', '31 min', '163 min', '19 min', '12 Seasons',\n",
       "       nan, '179 min', '11 Seasons', '43 min', '200 min', '196 min',\n",
       "       '167 min', '178 min', '228 min', '18 min', '205 min', '201 min',\n",
       "       '191 min'], dtype=object)"
      ]
     },
     "execution_count": 77,
     "metadata": {},
     "output_type": "execute_result"
    }
   ],
   "source": [
    "df.duration.unique()"
   ]
  },
  {
   "cell_type": "code",
   "execution_count": 84,
   "metadata": {
    "execution": {
     "iopub.execute_input": "2022-07-14T13:02:43.674668Z",
     "iopub.status.busy": "2022-07-14T13:02:43.674282Z",
     "iopub.status.idle": "2022-07-14T13:02:43.681011Z",
     "shell.execute_reply": "2022-07-14T13:02:43.680189Z",
     "shell.execute_reply.started": "2022-07-14T13:02:43.674637Z"
    }
   },
   "outputs": [
    {
     "data": {
      "text/plain": [
       "dtype('O')"
      ]
     },
     "execution_count": 84,
     "metadata": {},
     "output_type": "execute_result"
    }
   ],
   "source": [
    "df.duration.dtypes"
   ]
  },
  {
   "cell_type": "code",
   "execution_count": 91,
   "metadata": {
    "execution": {
     "iopub.execute_input": "2022-07-14T13:04:05.524949Z",
     "iopub.status.busy": "2022-07-14T13:04:05.524496Z",
     "iopub.status.idle": "2022-07-14T13:04:05.549185Z",
     "shell.execute_reply": "2022-07-14T13:04:05.548297Z",
     "shell.execute_reply.started": "2022-07-14T13:04:05.524902Z"
    }
   },
   "outputs": [
    {
     "data": {
      "text/html": [
       "<div>\n",
       "<style scoped>\n",
       "    .dataframe tbody tr th:only-of-type {\n",
       "        vertical-align: middle;\n",
       "    }\n",
       "\n",
       "    .dataframe tbody tr th {\n",
       "        vertical-align: top;\n",
       "    }\n",
       "\n",
       "    .dataframe thead th {\n",
       "        text-align: right;\n",
       "    }\n",
       "</style>\n",
       "<table border=\"1\" class=\"dataframe\">\n",
       "  <thead>\n",
       "    <tr style=\"text-align: right;\">\n",
       "      <th></th>\n",
       "      <th>show_id</th>\n",
       "      <th>type</th>\n",
       "      <th>title</th>\n",
       "      <th>director</th>\n",
       "      <th>cast</th>\n",
       "      <th>country</th>\n",
       "      <th>date_added</th>\n",
       "      <th>release_year</th>\n",
       "      <th>rating</th>\n",
       "      <th>duration</th>\n",
       "      <th>listed_in</th>\n",
       "      <th>description</th>\n",
       "      <th>minutes</th>\n",
       "      <th>unit</th>\n",
       "    </tr>\n",
       "  </thead>\n",
       "  <tbody>\n",
       "    <tr>\n",
       "      <th>0</th>\n",
       "      <td>s1</td>\n",
       "      <td>Movie</td>\n",
       "      <td>Dick Johnson Is Dead</td>\n",
       "      <td>Kirsten Johnson</td>\n",
       "      <td>NaN</td>\n",
       "      <td>United States</td>\n",
       "      <td>September 25, 2021</td>\n",
       "      <td>2020</td>\n",
       "      <td>PG-13</td>\n",
       "      <td>90 min</td>\n",
       "      <td>Documentaries</td>\n",
       "      <td>As her father nears the end of his life, filmm...</td>\n",
       "      <td>90</td>\n",
       "      <td>min</td>\n",
       "    </tr>\n",
       "    <tr>\n",
       "      <th>1</th>\n",
       "      <td>s2</td>\n",
       "      <td>TV Show</td>\n",
       "      <td>Blood &amp; Water</td>\n",
       "      <td>NaN</td>\n",
       "      <td>Ama Qamata, Khosi Ngema, Gail Mabalane, Thaban...</td>\n",
       "      <td>South Africa</td>\n",
       "      <td>September 24, 2021</td>\n",
       "      <td>2021</td>\n",
       "      <td>TV-MA</td>\n",
       "      <td>2 Seasons</td>\n",
       "      <td>International TV Shows, TV Dramas, TV Mysteries</td>\n",
       "      <td>After crossing paths at a party, a Cape Town t...</td>\n",
       "      <td>2</td>\n",
       "      <td>Seasons</td>\n",
       "    </tr>\n",
       "    <tr>\n",
       "      <th>2</th>\n",
       "      <td>s3</td>\n",
       "      <td>TV Show</td>\n",
       "      <td>Ganglands</td>\n",
       "      <td>Julien Leclercq</td>\n",
       "      <td>Sami Bouajila, Tracy Gotoas, Samuel Jouy, Nabi...</td>\n",
       "      <td>NaN</td>\n",
       "      <td>September 24, 2021</td>\n",
       "      <td>2021</td>\n",
       "      <td>TV-MA</td>\n",
       "      <td>1 Season</td>\n",
       "      <td>Crime TV Shows, International TV Shows, TV Act...</td>\n",
       "      <td>To protect his family from a powerful drug lor...</td>\n",
       "      <td>1</td>\n",
       "      <td>Season</td>\n",
       "    </tr>\n",
       "    <tr>\n",
       "      <th>3</th>\n",
       "      <td>s4</td>\n",
       "      <td>TV Show</td>\n",
       "      <td>Jailbirds New Orleans</td>\n",
       "      <td>NaN</td>\n",
       "      <td>NaN</td>\n",
       "      <td>NaN</td>\n",
       "      <td>September 24, 2021</td>\n",
       "      <td>2021</td>\n",
       "      <td>TV-MA</td>\n",
       "      <td>1 Season</td>\n",
       "      <td>Docuseries, Reality TV</td>\n",
       "      <td>Feuds, flirtations and toilet talk go down amo...</td>\n",
       "      <td>1</td>\n",
       "      <td>Season</td>\n",
       "    </tr>\n",
       "    <tr>\n",
       "      <th>4</th>\n",
       "      <td>s5</td>\n",
       "      <td>TV Show</td>\n",
       "      <td>Kota Factory</td>\n",
       "      <td>NaN</td>\n",
       "      <td>Mayur More, Jitendra Kumar, Ranjan Raj, Alam K...</td>\n",
       "      <td>India</td>\n",
       "      <td>September 24, 2021</td>\n",
       "      <td>2021</td>\n",
       "      <td>TV-MA</td>\n",
       "      <td>2 Seasons</td>\n",
       "      <td>International TV Shows, Romantic TV Shows, TV ...</td>\n",
       "      <td>In a city of coaching centers known to train I...</td>\n",
       "      <td>2</td>\n",
       "      <td>Seasons</td>\n",
       "    </tr>\n",
       "    <tr>\n",
       "      <th>...</th>\n",
       "      <td>...</td>\n",
       "      <td>...</td>\n",
       "      <td>...</td>\n",
       "      <td>...</td>\n",
       "      <td>...</td>\n",
       "      <td>...</td>\n",
       "      <td>...</td>\n",
       "      <td>...</td>\n",
       "      <td>...</td>\n",
       "      <td>...</td>\n",
       "      <td>...</td>\n",
       "      <td>...</td>\n",
       "      <td>...</td>\n",
       "      <td>...</td>\n",
       "    </tr>\n",
       "    <tr>\n",
       "      <th>8802</th>\n",
       "      <td>s8803</td>\n",
       "      <td>Movie</td>\n",
       "      <td>Zodiac</td>\n",
       "      <td>David Fincher</td>\n",
       "      <td>Mark Ruffalo, Jake Gyllenhaal, Robert Downey J...</td>\n",
       "      <td>United States</td>\n",
       "      <td>November 20, 2019</td>\n",
       "      <td>2007</td>\n",
       "      <td>R</td>\n",
       "      <td>158 min</td>\n",
       "      <td>Cult Movies, Dramas, Thrillers</td>\n",
       "      <td>A political cartoonist, a crime reporter and a...</td>\n",
       "      <td>158</td>\n",
       "      <td>min</td>\n",
       "    </tr>\n",
       "    <tr>\n",
       "      <th>8803</th>\n",
       "      <td>s8804</td>\n",
       "      <td>TV Show</td>\n",
       "      <td>Zombie Dumb</td>\n",
       "      <td>NaN</td>\n",
       "      <td>NaN</td>\n",
       "      <td>NaN</td>\n",
       "      <td>July 1, 2019</td>\n",
       "      <td>2018</td>\n",
       "      <td>TV-Y7</td>\n",
       "      <td>2 Seasons</td>\n",
       "      <td>Kids' TV, Korean TV Shows, TV Comedies</td>\n",
       "      <td>While living alone in a spooky town, a young g...</td>\n",
       "      <td>2</td>\n",
       "      <td>Seasons</td>\n",
       "    </tr>\n",
       "    <tr>\n",
       "      <th>8804</th>\n",
       "      <td>s8805</td>\n",
       "      <td>Movie</td>\n",
       "      <td>Zombieland</td>\n",
       "      <td>Ruben Fleischer</td>\n",
       "      <td>Jesse Eisenberg, Woody Harrelson, Emma Stone, ...</td>\n",
       "      <td>United States</td>\n",
       "      <td>November 1, 2019</td>\n",
       "      <td>2009</td>\n",
       "      <td>R</td>\n",
       "      <td>88 min</td>\n",
       "      <td>Comedies, Horror Movies</td>\n",
       "      <td>Looking to survive in a world taken over by zo...</td>\n",
       "      <td>88</td>\n",
       "      <td>min</td>\n",
       "    </tr>\n",
       "    <tr>\n",
       "      <th>8805</th>\n",
       "      <td>s8806</td>\n",
       "      <td>Movie</td>\n",
       "      <td>Zoom</td>\n",
       "      <td>Peter Hewitt</td>\n",
       "      <td>Tim Allen, Courteney Cox, Chevy Chase, Kate Ma...</td>\n",
       "      <td>United States</td>\n",
       "      <td>January 11, 2020</td>\n",
       "      <td>2006</td>\n",
       "      <td>PG</td>\n",
       "      <td>88 min</td>\n",
       "      <td>Children &amp; Family Movies, Comedies</td>\n",
       "      <td>Dragged from civilian life, a former superhero...</td>\n",
       "      <td>88</td>\n",
       "      <td>min</td>\n",
       "    </tr>\n",
       "    <tr>\n",
       "      <th>8806</th>\n",
       "      <td>s8807</td>\n",
       "      <td>Movie</td>\n",
       "      <td>Zubaan</td>\n",
       "      <td>Mozez Singh</td>\n",
       "      <td>Vicky Kaushal, Sarah-Jane Dias, Raaghav Chanan...</td>\n",
       "      <td>India</td>\n",
       "      <td>March 2, 2019</td>\n",
       "      <td>2015</td>\n",
       "      <td>TV-14</td>\n",
       "      <td>111 min</td>\n",
       "      <td>Dramas, International Movies, Music &amp; Musicals</td>\n",
       "      <td>A scrappy but poor boy worms his way into a ty...</td>\n",
       "      <td>111</td>\n",
       "      <td>min</td>\n",
       "    </tr>\n",
       "  </tbody>\n",
       "</table>\n",
       "<p>8807 rows × 14 columns</p>\n",
       "</div>"
      ],
      "text/plain": [
       "     show_id     type                  title         director  \\\n",
       "0         s1    Movie   Dick Johnson Is Dead  Kirsten Johnson   \n",
       "1         s2  TV Show          Blood & Water              NaN   \n",
       "2         s3  TV Show              Ganglands  Julien Leclercq   \n",
       "3         s4  TV Show  Jailbirds New Orleans              NaN   \n",
       "4         s5  TV Show           Kota Factory              NaN   \n",
       "...      ...      ...                    ...              ...   \n",
       "8802   s8803    Movie                 Zodiac    David Fincher   \n",
       "8803   s8804  TV Show            Zombie Dumb              NaN   \n",
       "8804   s8805    Movie             Zombieland  Ruben Fleischer   \n",
       "8805   s8806    Movie                   Zoom     Peter Hewitt   \n",
       "8806   s8807    Movie                 Zubaan      Mozez Singh   \n",
       "\n",
       "                                                   cast        country  \\\n",
       "0                                                   NaN  United States   \n",
       "1     Ama Qamata, Khosi Ngema, Gail Mabalane, Thaban...   South Africa   \n",
       "2     Sami Bouajila, Tracy Gotoas, Samuel Jouy, Nabi...            NaN   \n",
       "3                                                   NaN            NaN   \n",
       "4     Mayur More, Jitendra Kumar, Ranjan Raj, Alam K...          India   \n",
       "...                                                 ...            ...   \n",
       "8802  Mark Ruffalo, Jake Gyllenhaal, Robert Downey J...  United States   \n",
       "8803                                                NaN            NaN   \n",
       "8804  Jesse Eisenberg, Woody Harrelson, Emma Stone, ...  United States   \n",
       "8805  Tim Allen, Courteney Cox, Chevy Chase, Kate Ma...  United States   \n",
       "8806  Vicky Kaushal, Sarah-Jane Dias, Raaghav Chanan...          India   \n",
       "\n",
       "              date_added  release_year rating   duration  \\\n",
       "0     September 25, 2021          2020  PG-13     90 min   \n",
       "1     September 24, 2021          2021  TV-MA  2 Seasons   \n",
       "2     September 24, 2021          2021  TV-MA   1 Season   \n",
       "3     September 24, 2021          2021  TV-MA   1 Season   \n",
       "4     September 24, 2021          2021  TV-MA  2 Seasons   \n",
       "...                  ...           ...    ...        ...   \n",
       "8802   November 20, 2019          2007      R    158 min   \n",
       "8803        July 1, 2019          2018  TV-Y7  2 Seasons   \n",
       "8804    November 1, 2019          2009      R     88 min   \n",
       "8805    January 11, 2020          2006     PG     88 min   \n",
       "8806       March 2, 2019          2015  TV-14    111 min   \n",
       "\n",
       "                                              listed_in  \\\n",
       "0                                         Documentaries   \n",
       "1       International TV Shows, TV Dramas, TV Mysteries   \n",
       "2     Crime TV Shows, International TV Shows, TV Act...   \n",
       "3                                Docuseries, Reality TV   \n",
       "4     International TV Shows, Romantic TV Shows, TV ...   \n",
       "...                                                 ...   \n",
       "8802                     Cult Movies, Dramas, Thrillers   \n",
       "8803             Kids' TV, Korean TV Shows, TV Comedies   \n",
       "8804                            Comedies, Horror Movies   \n",
       "8805                 Children & Family Movies, Comedies   \n",
       "8806     Dramas, International Movies, Music & Musicals   \n",
       "\n",
       "                                            description minutes     unit  \n",
       "0     As her father nears the end of his life, filmm...      90      min  \n",
       "1     After crossing paths at a party, a Cape Town t...       2  Seasons  \n",
       "2     To protect his family from a powerful drug lor...       1   Season  \n",
       "3     Feuds, flirtations and toilet talk go down amo...       1   Season  \n",
       "4     In a city of coaching centers known to train I...       2  Seasons  \n",
       "...                                                 ...     ...      ...  \n",
       "8802  A political cartoonist, a crime reporter and a...     158      min  \n",
       "8803  While living alone in a spooky town, a young g...       2  Seasons  \n",
       "8804  Looking to survive in a world taken over by zo...      88      min  \n",
       "8805  Dragged from civilian life, a former superhero...      88      min  \n",
       "8806  A scrappy but poor boy worms his way into a ty...     111      min  \n",
       "\n",
       "[8807 rows x 14 columns]"
      ]
     },
     "execution_count": 91,
     "metadata": {},
     "output_type": "execute_result"
    }
   ],
   "source": [
    "df[['minutes' , 'unit']] = df.duration.str.split(' ' ,expand = True)\n",
    "df"
   ]
  },
  {
   "cell_type": "code",
   "execution_count": 92,
   "metadata": {
    "execution": {
     "iopub.execute_input": "2022-07-14T13:04:11.576141Z",
     "iopub.status.busy": "2022-07-14T13:04:11.575787Z",
     "iopub.status.idle": "2022-07-14T13:04:11.595991Z",
     "shell.execute_reply": "2022-07-14T13:04:11.594979Z",
     "shell.execute_reply.started": "2022-07-14T13:04:11.576113Z"
    }
   },
   "outputs": [
    {
     "data": {
      "text/html": [
       "<div>\n",
       "<style scoped>\n",
       "    .dataframe tbody tr th:only-of-type {\n",
       "        vertical-align: middle;\n",
       "    }\n",
       "\n",
       "    .dataframe tbody tr th {\n",
       "        vertical-align: top;\n",
       "    }\n",
       "\n",
       "    .dataframe thead th {\n",
       "        text-align: right;\n",
       "    }\n",
       "</style>\n",
       "<table border=\"1\" class=\"dataframe\">\n",
       "  <thead>\n",
       "    <tr style=\"text-align: right;\">\n",
       "      <th></th>\n",
       "      <th>show_id</th>\n",
       "      <th>type</th>\n",
       "      <th>title</th>\n",
       "      <th>director</th>\n",
       "      <th>cast</th>\n",
       "      <th>country</th>\n",
       "      <th>date_added</th>\n",
       "      <th>release_year</th>\n",
       "      <th>rating</th>\n",
       "      <th>duration</th>\n",
       "      <th>listed_in</th>\n",
       "      <th>description</th>\n",
       "      <th>minutes</th>\n",
       "      <th>unit</th>\n",
       "    </tr>\n",
       "  </thead>\n",
       "  <tbody>\n",
       "    <tr>\n",
       "      <th>0</th>\n",
       "      <td>s1</td>\n",
       "      <td>Movie</td>\n",
       "      <td>Dick Johnson Is Dead</td>\n",
       "      <td>Kirsten Johnson</td>\n",
       "      <td>NaN</td>\n",
       "      <td>United States</td>\n",
       "      <td>September 25, 2021</td>\n",
       "      <td>2020</td>\n",
       "      <td>PG-13</td>\n",
       "      <td>90 min</td>\n",
       "      <td>Documentaries</td>\n",
       "      <td>As her father nears the end of his life, filmm...</td>\n",
       "      <td>90</td>\n",
       "      <td>min</td>\n",
       "    </tr>\n",
       "    <tr>\n",
       "      <th>1</th>\n",
       "      <td>s2</td>\n",
       "      <td>TV Show</td>\n",
       "      <td>Blood &amp; Water</td>\n",
       "      <td>NaN</td>\n",
       "      <td>Ama Qamata, Khosi Ngema, Gail Mabalane, Thaban...</td>\n",
       "      <td>South Africa</td>\n",
       "      <td>September 24, 2021</td>\n",
       "      <td>2021</td>\n",
       "      <td>TV-MA</td>\n",
       "      <td>2 Seasons</td>\n",
       "      <td>International TV Shows, TV Dramas, TV Mysteries</td>\n",
       "      <td>After crossing paths at a party, a Cape Town t...</td>\n",
       "      <td>2</td>\n",
       "      <td>Seasons</td>\n",
       "    </tr>\n",
       "    <tr>\n",
       "      <th>2</th>\n",
       "      <td>s3</td>\n",
       "      <td>TV Show</td>\n",
       "      <td>Ganglands</td>\n",
       "      <td>Julien Leclercq</td>\n",
       "      <td>Sami Bouajila, Tracy Gotoas, Samuel Jouy, Nabi...</td>\n",
       "      <td>NaN</td>\n",
       "      <td>September 24, 2021</td>\n",
       "      <td>2021</td>\n",
       "      <td>TV-MA</td>\n",
       "      <td>1 Season</td>\n",
       "      <td>Crime TV Shows, International TV Shows, TV Act...</td>\n",
       "      <td>To protect his family from a powerful drug lor...</td>\n",
       "      <td>1</td>\n",
       "      <td>Season</td>\n",
       "    </tr>\n",
       "    <tr>\n",
       "      <th>3</th>\n",
       "      <td>s4</td>\n",
       "      <td>TV Show</td>\n",
       "      <td>Jailbirds New Orleans</td>\n",
       "      <td>NaN</td>\n",
       "      <td>NaN</td>\n",
       "      <td>NaN</td>\n",
       "      <td>September 24, 2021</td>\n",
       "      <td>2021</td>\n",
       "      <td>TV-MA</td>\n",
       "      <td>1 Season</td>\n",
       "      <td>Docuseries, Reality TV</td>\n",
       "      <td>Feuds, flirtations and toilet talk go down amo...</td>\n",
       "      <td>1</td>\n",
       "      <td>Season</td>\n",
       "    </tr>\n",
       "    <tr>\n",
       "      <th>4</th>\n",
       "      <td>s5</td>\n",
       "      <td>TV Show</td>\n",
       "      <td>Kota Factory</td>\n",
       "      <td>NaN</td>\n",
       "      <td>Mayur More, Jitendra Kumar, Ranjan Raj, Alam K...</td>\n",
       "      <td>India</td>\n",
       "      <td>September 24, 2021</td>\n",
       "      <td>2021</td>\n",
       "      <td>TV-MA</td>\n",
       "      <td>2 Seasons</td>\n",
       "      <td>International TV Shows, Romantic TV Shows, TV ...</td>\n",
       "      <td>In a city of coaching centers known to train I...</td>\n",
       "      <td>2</td>\n",
       "      <td>Seasons</td>\n",
       "    </tr>\n",
       "  </tbody>\n",
       "</table>\n",
       "</div>"
      ],
      "text/plain": [
       "  show_id     type                  title         director  \\\n",
       "0      s1    Movie   Dick Johnson Is Dead  Kirsten Johnson   \n",
       "1      s2  TV Show          Blood & Water              NaN   \n",
       "2      s3  TV Show              Ganglands  Julien Leclercq   \n",
       "3      s4  TV Show  Jailbirds New Orleans              NaN   \n",
       "4      s5  TV Show           Kota Factory              NaN   \n",
       "\n",
       "                                                cast        country  \\\n",
       "0                                                NaN  United States   \n",
       "1  Ama Qamata, Khosi Ngema, Gail Mabalane, Thaban...   South Africa   \n",
       "2  Sami Bouajila, Tracy Gotoas, Samuel Jouy, Nabi...            NaN   \n",
       "3                                                NaN            NaN   \n",
       "4  Mayur More, Jitendra Kumar, Ranjan Raj, Alam K...          India   \n",
       "\n",
       "           date_added  release_year rating   duration  \\\n",
       "0  September 25, 2021          2020  PG-13     90 min   \n",
       "1  September 24, 2021          2021  TV-MA  2 Seasons   \n",
       "2  September 24, 2021          2021  TV-MA   1 Season   \n",
       "3  September 24, 2021          2021  TV-MA   1 Season   \n",
       "4  September 24, 2021          2021  TV-MA  2 Seasons   \n",
       "\n",
       "                                           listed_in  \\\n",
       "0                                      Documentaries   \n",
       "1    International TV Shows, TV Dramas, TV Mysteries   \n",
       "2  Crime TV Shows, International TV Shows, TV Act...   \n",
       "3                             Docuseries, Reality TV   \n",
       "4  International TV Shows, Romantic TV Shows, TV ...   \n",
       "\n",
       "                                         description minutes     unit  \n",
       "0  As her father nears the end of his life, filmm...      90      min  \n",
       "1  After crossing paths at a party, a Cape Town t...       2  Seasons  \n",
       "2  To protect his family from a powerful drug lor...       1   Season  \n",
       "3  Feuds, flirtations and toilet talk go down amo...       1   Season  \n",
       "4  In a city of coaching centers known to train I...       2  Seasons  "
      ]
     },
     "execution_count": 92,
     "metadata": {},
     "output_type": "execute_result"
    }
   ],
   "source": [
    "df.head()"
   ]
  },
  {
   "cell_type": "code",
   "execution_count": 95,
   "metadata": {
    "execution": {
     "iopub.execute_input": "2022-07-14T13:09:59.276261Z",
     "iopub.status.busy": "2022-07-14T13:09:59.275868Z",
     "iopub.status.idle": "2022-07-14T13:09:59.288195Z",
     "shell.execute_reply": "2022-07-14T13:09:59.286901Z",
     "shell.execute_reply.started": "2022-07-14T13:09:59.27623Z"
    }
   },
   "outputs": [],
   "source": [
    "df['minutes'] = pd.to_numeric(df['minutes'])"
   ]
  },
  {
   "cell_type": "code",
   "execution_count": 96,
   "metadata": {
    "execution": {
     "iopub.execute_input": "2022-07-14T13:10:14.675869Z",
     "iopub.status.busy": "2022-07-14T13:10:14.674822Z",
     "iopub.status.idle": "2022-07-14T13:10:14.684173Z",
     "shell.execute_reply": "2022-07-14T13:10:14.68285Z",
     "shell.execute_reply.started": "2022-07-14T13:10:14.67582Z"
    }
   },
   "outputs": [
    {
     "data": {
      "text/plain": [
       "312.0"
      ]
     },
     "execution_count": 96,
     "metadata": {},
     "output_type": "execute_result"
    }
   ],
   "source": [
    "df['minutes'].max()"
   ]
  },
  {
   "cell_type": "markdown",
   "metadata": {},
   "source": [
    "**11) Which individual country has the Highest No. of TV Shows ?**"
   ]
  },
  {
   "cell_type": "code",
   "execution_count": 110,
   "metadata": {
    "execution": {
     "iopub.execute_input": "2022-07-14T13:13:33.50984Z",
     "iopub.status.busy": "2022-07-14T13:13:33.509335Z",
     "iopub.status.idle": "2022-07-14T13:13:33.52255Z",
     "shell.execute_reply": "2022-07-14T13:13:33.521693Z",
     "shell.execute_reply.started": "2022-07-14T13:13:33.5098Z"
    }
   },
   "outputs": [
    {
     "data": {
      "text/plain": [
       "United States    760\n",
       "Name: country, dtype: int64"
      ]
     },
     "execution_count": 110,
     "metadata": {},
     "output_type": "execute_result"
    }
   ],
   "source": [
    "df[df.type == 'TV Show']['country'].value_counts().head(1)"
   ]
  },
  {
   "cell_type": "markdown",
   "metadata": {},
   "source": [
    "**Q. 12) How can we sort the dataset by Year ?**"
   ]
  },
  {
   "cell_type": "code",
   "execution_count": 98,
   "metadata": {
    "execution": {
     "iopub.execute_input": "2022-07-14T13:14:37.212397Z",
     "iopub.status.busy": "2022-07-14T13:14:37.212022Z",
     "iopub.status.idle": "2022-07-14T13:14:37.242307Z",
     "shell.execute_reply": "2022-07-14T13:14:37.241055Z",
     "shell.execute_reply.started": "2022-07-14T13:14:37.212366Z"
    }
   },
   "outputs": [
    {
     "data": {
      "text/html": [
       "<div>\n",
       "<style scoped>\n",
       "    .dataframe tbody tr th:only-of-type {\n",
       "        vertical-align: middle;\n",
       "    }\n",
       "\n",
       "    .dataframe tbody tr th {\n",
       "        vertical-align: top;\n",
       "    }\n",
       "\n",
       "    .dataframe thead th {\n",
       "        text-align: right;\n",
       "    }\n",
       "</style>\n",
       "<table border=\"1\" class=\"dataframe\">\n",
       "  <thead>\n",
       "    <tr style=\"text-align: right;\">\n",
       "      <th></th>\n",
       "      <th>show_id</th>\n",
       "      <th>type</th>\n",
       "      <th>title</th>\n",
       "      <th>director</th>\n",
       "      <th>cast</th>\n",
       "      <th>country</th>\n",
       "      <th>date_added</th>\n",
       "      <th>release_year</th>\n",
       "      <th>rating</th>\n",
       "      <th>duration</th>\n",
       "      <th>listed_in</th>\n",
       "      <th>description</th>\n",
       "      <th>minutes</th>\n",
       "      <th>unit</th>\n",
       "    </tr>\n",
       "  </thead>\n",
       "  <tbody>\n",
       "    <tr>\n",
       "      <th>4250</th>\n",
       "      <td>s4251</td>\n",
       "      <td>TV Show</td>\n",
       "      <td>Pioneers: First Women Filmmakers*</td>\n",
       "      <td>NaN</td>\n",
       "      <td>NaN</td>\n",
       "      <td>NaN</td>\n",
       "      <td>December 30, 2018</td>\n",
       "      <td>1925</td>\n",
       "      <td>TV-14</td>\n",
       "      <td>1 Season</td>\n",
       "      <td>TV Shows</td>\n",
       "      <td>This collection restores films from women who ...</td>\n",
       "      <td>1.0</td>\n",
       "      <td>Season</td>\n",
       "    </tr>\n",
       "    <tr>\n",
       "      <th>7790</th>\n",
       "      <td>s7791</td>\n",
       "      <td>Movie</td>\n",
       "      <td>Prelude to War</td>\n",
       "      <td>Frank Capra</td>\n",
       "      <td>NaN</td>\n",
       "      <td>United States</td>\n",
       "      <td>March 31, 2017</td>\n",
       "      <td>1942</td>\n",
       "      <td>TV-14</td>\n",
       "      <td>52 min</td>\n",
       "      <td>Classic Movies, Documentaries</td>\n",
       "      <td>Frank Capra's documentary chronicles the rise ...</td>\n",
       "      <td>52.0</td>\n",
       "      <td>min</td>\n",
       "    </tr>\n",
       "    <tr>\n",
       "      <th>8205</th>\n",
       "      <td>s8206</td>\n",
       "      <td>Movie</td>\n",
       "      <td>The Battle of Midway</td>\n",
       "      <td>John Ford</td>\n",
       "      <td>Henry Fonda, Jane Darwell</td>\n",
       "      <td>United States</td>\n",
       "      <td>March 31, 2017</td>\n",
       "      <td>1942</td>\n",
       "      <td>TV-14</td>\n",
       "      <td>18 min</td>\n",
       "      <td>Classic Movies, Documentaries</td>\n",
       "      <td>Director John Ford captures combat footage of ...</td>\n",
       "      <td>18.0</td>\n",
       "      <td>min</td>\n",
       "    </tr>\n",
       "    <tr>\n",
       "      <th>8660</th>\n",
       "      <td>s8661</td>\n",
       "      <td>Movie</td>\n",
       "      <td>Undercover: How to Operate Behind Enemy Lines</td>\n",
       "      <td>John Ford</td>\n",
       "      <td>NaN</td>\n",
       "      <td>United States</td>\n",
       "      <td>March 31, 2017</td>\n",
       "      <td>1943</td>\n",
       "      <td>TV-PG</td>\n",
       "      <td>61 min</td>\n",
       "      <td>Classic Movies, Documentaries</td>\n",
       "      <td>This World War II-era training film dramatizes...</td>\n",
       "      <td>61.0</td>\n",
       "      <td>min</td>\n",
       "    </tr>\n",
       "    <tr>\n",
       "      <th>8739</th>\n",
       "      <td>s8740</td>\n",
       "      <td>Movie</td>\n",
       "      <td>Why We Fight: The Battle of Russia</td>\n",
       "      <td>Frank Capra, Anatole Litvak</td>\n",
       "      <td>NaN</td>\n",
       "      <td>United States</td>\n",
       "      <td>March 31, 2017</td>\n",
       "      <td>1943</td>\n",
       "      <td>TV-PG</td>\n",
       "      <td>82 min</td>\n",
       "      <td>Documentaries</td>\n",
       "      <td>This installment of Frank Capra's acclaimed do...</td>\n",
       "      <td>82.0</td>\n",
       "      <td>min</td>\n",
       "    </tr>\n",
       "    <tr>\n",
       "      <th>...</th>\n",
       "      <td>...</td>\n",
       "      <td>...</td>\n",
       "      <td>...</td>\n",
       "      <td>...</td>\n",
       "      <td>...</td>\n",
       "      <td>...</td>\n",
       "      <td>...</td>\n",
       "      <td>...</td>\n",
       "      <td>...</td>\n",
       "      <td>...</td>\n",
       "      <td>...</td>\n",
       "      <td>...</td>\n",
       "      <td>...</td>\n",
       "      <td>...</td>\n",
       "    </tr>\n",
       "    <tr>\n",
       "      <th>862</th>\n",
       "      <td>s863</td>\n",
       "      <td>TV Show</td>\n",
       "      <td>Special</td>\n",
       "      <td>NaN</td>\n",
       "      <td>Ryan O'Connell, Jessica Hecht, Punam Patel, Ma...</td>\n",
       "      <td>United States</td>\n",
       "      <td>May 20, 2021</td>\n",
       "      <td>2021</td>\n",
       "      <td>TV-MA</td>\n",
       "      <td>2 Seasons</td>\n",
       "      <td>TV Comedies</td>\n",
       "      <td>A young gay man with cerebral palsy branches o...</td>\n",
       "      <td>2.0</td>\n",
       "      <td>Seasons</td>\n",
       "    </tr>\n",
       "    <tr>\n",
       "      <th>861</th>\n",
       "      <td>s862</td>\n",
       "      <td>Movie</td>\n",
       "      <td>Little Singham Future mein Satakli</td>\n",
       "      <td>Prakash Satam</td>\n",
       "      <td>Anamaya Verma, Ganesh Divekar, Jigna Bharadhwa...</td>\n",
       "      <td>NaN</td>\n",
       "      <td>May 20, 2021</td>\n",
       "      <td>2021</td>\n",
       "      <td>TV-Y7</td>\n",
       "      <td>47 min</td>\n",
       "      <td>Children &amp; Family Movies, Comedies</td>\n",
       "      <td>Little Singham and his crew travel to the year...</td>\n",
       "      <td>47.0</td>\n",
       "      <td>min</td>\n",
       "    </tr>\n",
       "    <tr>\n",
       "      <th>857</th>\n",
       "      <td>s858</td>\n",
       "      <td>TV Show</td>\n",
       "      <td>The Neighbor</td>\n",
       "      <td>NaN</td>\n",
       "      <td>Quim Gutiérrez, Clara Lago, Adrián Pino, Catel...</td>\n",
       "      <td>Spain</td>\n",
       "      <td>May 21, 2021</td>\n",
       "      <td>2021</td>\n",
       "      <td>TV-MA</td>\n",
       "      <td>2 Seasons</td>\n",
       "      <td>International TV Shows, Spanish-Language TV Sh...</td>\n",
       "      <td>Self-centered Javier's life gets a bit messy w...</td>\n",
       "      <td>2.0</td>\n",
       "      <td>Seasons</td>\n",
       "    </tr>\n",
       "    <tr>\n",
       "      <th>876</th>\n",
       "      <td>s877</td>\n",
       "      <td>TV Show</td>\n",
       "      <td>Alma Matters</td>\n",
       "      <td>NaN</td>\n",
       "      <td>NaN</td>\n",
       "      <td>India</td>\n",
       "      <td>May 14, 2021</td>\n",
       "      <td>2021</td>\n",
       "      <td>TV-MA</td>\n",
       "      <td>1 Season</td>\n",
       "      <td>Docuseries, International TV Shows</td>\n",
       "      <td>Alumni of India’s elite academic institutes sh...</td>\n",
       "      <td>1.0</td>\n",
       "      <td>Season</td>\n",
       "    </tr>\n",
       "    <tr>\n",
       "      <th>965</th>\n",
       "      <td>s966</td>\n",
       "      <td>TV Show</td>\n",
       "      <td>Yasuke</td>\n",
       "      <td>NaN</td>\n",
       "      <td>LaKeith Stanfield, Takehiro Hira, Maya Tanida,...</td>\n",
       "      <td>NaN</td>\n",
       "      <td>April 29, 2021</td>\n",
       "      <td>2021</td>\n",
       "      <td>TV-MA</td>\n",
       "      <td>1 Season</td>\n",
       "      <td>Anime Series, International TV Shows</td>\n",
       "      <td>A peaceful boatman once known as the Black Sam...</td>\n",
       "      <td>1.0</td>\n",
       "      <td>Season</td>\n",
       "    </tr>\n",
       "  </tbody>\n",
       "</table>\n",
       "<p>8807 rows × 14 columns</p>\n",
       "</div>"
      ],
      "text/plain": [
       "     show_id     type                                          title  \\\n",
       "4250   s4251  TV Show              Pioneers: First Women Filmmakers*   \n",
       "7790   s7791    Movie                                 Prelude to War   \n",
       "8205   s8206    Movie                           The Battle of Midway   \n",
       "8660   s8661    Movie  Undercover: How to Operate Behind Enemy Lines   \n",
       "8739   s8740    Movie             Why We Fight: The Battle of Russia   \n",
       "...      ...      ...                                            ...   \n",
       "862     s863  TV Show                                        Special   \n",
       "861     s862    Movie             Little Singham Future mein Satakli   \n",
       "857     s858  TV Show                                   The Neighbor   \n",
       "876     s877  TV Show                                   Alma Matters   \n",
       "965     s966  TV Show                                         Yasuke   \n",
       "\n",
       "                         director  \\\n",
       "4250                          NaN   \n",
       "7790                  Frank Capra   \n",
       "8205                    John Ford   \n",
       "8660                    John Ford   \n",
       "8739  Frank Capra, Anatole Litvak   \n",
       "...                           ...   \n",
       "862                           NaN   \n",
       "861                 Prakash Satam   \n",
       "857                           NaN   \n",
       "876                           NaN   \n",
       "965                           NaN   \n",
       "\n",
       "                                                   cast        country  \\\n",
       "4250                                                NaN            NaN   \n",
       "7790                                                NaN  United States   \n",
       "8205                          Henry Fonda, Jane Darwell  United States   \n",
       "8660                                                NaN  United States   \n",
       "8739                                                NaN  United States   \n",
       "...                                                 ...            ...   \n",
       "862   Ryan O'Connell, Jessica Hecht, Punam Patel, Ma...  United States   \n",
       "861   Anamaya Verma, Ganesh Divekar, Jigna Bharadhwa...            NaN   \n",
       "857   Quim Gutiérrez, Clara Lago, Adrián Pino, Catel...          Spain   \n",
       "876                                                 NaN          India   \n",
       "965   LaKeith Stanfield, Takehiro Hira, Maya Tanida,...            NaN   \n",
       "\n",
       "             date_added  release_year rating   duration  \\\n",
       "4250  December 30, 2018          1925  TV-14   1 Season   \n",
       "7790     March 31, 2017          1942  TV-14     52 min   \n",
       "8205     March 31, 2017          1942  TV-14     18 min   \n",
       "8660     March 31, 2017          1943  TV-PG     61 min   \n",
       "8739     March 31, 2017          1943  TV-PG     82 min   \n",
       "...                 ...           ...    ...        ...   \n",
       "862        May 20, 2021          2021  TV-MA  2 Seasons   \n",
       "861        May 20, 2021          2021  TV-Y7     47 min   \n",
       "857        May 21, 2021          2021  TV-MA  2 Seasons   \n",
       "876        May 14, 2021          2021  TV-MA   1 Season   \n",
       "965      April 29, 2021          2021  TV-MA   1 Season   \n",
       "\n",
       "                                              listed_in  \\\n",
       "4250                                           TV Shows   \n",
       "7790                      Classic Movies, Documentaries   \n",
       "8205                      Classic Movies, Documentaries   \n",
       "8660                      Classic Movies, Documentaries   \n",
       "8739                                      Documentaries   \n",
       "...                                                 ...   \n",
       "862                                         TV Comedies   \n",
       "861                  Children & Family Movies, Comedies   \n",
       "857   International TV Shows, Spanish-Language TV Sh...   \n",
       "876                  Docuseries, International TV Shows   \n",
       "965                Anime Series, International TV Shows   \n",
       "\n",
       "                                            description  minutes     unit  \n",
       "4250  This collection restores films from women who ...      1.0   Season  \n",
       "7790  Frank Capra's documentary chronicles the rise ...     52.0      min  \n",
       "8205  Director John Ford captures combat footage of ...     18.0      min  \n",
       "8660  This World War II-era training film dramatizes...     61.0      min  \n",
       "8739  This installment of Frank Capra's acclaimed do...     82.0      min  \n",
       "...                                                 ...      ...      ...  \n",
       "862   A young gay man with cerebral palsy branches o...      2.0  Seasons  \n",
       "861   Little Singham and his crew travel to the year...     47.0      min  \n",
       "857   Self-centered Javier's life gets a bit messy w...      2.0  Seasons  \n",
       "876   Alumni of India’s elite academic institutes sh...      1.0   Season  \n",
       "965   A peaceful boatman once known as the Black Sam...      1.0   Season  \n",
       "\n",
       "[8807 rows x 14 columns]"
      ]
     },
     "execution_count": 98,
     "metadata": {},
     "output_type": "execute_result"
    }
   ],
   "source": [
    "df.sort_values(by = 'release_year')"
   ]
  },
  {
   "cell_type": "code",
   "execution_count": 112,
   "metadata": {
    "execution": {
     "iopub.execute_input": "2022-07-14T13:16:44.635576Z",
     "iopub.status.busy": "2022-07-14T13:16:44.635201Z",
     "iopub.status.idle": "2022-07-14T13:16:44.667535Z",
     "shell.execute_reply": "2022-07-14T13:16:44.666459Z",
     "shell.execute_reply.started": "2022-07-14T13:16:44.635544Z"
    }
   },
   "outputs": [
    {
     "data": {
      "text/html": [
       "<div>\n",
       "<style scoped>\n",
       "    .dataframe tbody tr th:only-of-type {\n",
       "        vertical-align: middle;\n",
       "    }\n",
       "\n",
       "    .dataframe tbody tr th {\n",
       "        vertical-align: top;\n",
       "    }\n",
       "\n",
       "    .dataframe thead th {\n",
       "        text-align: right;\n",
       "    }\n",
       "</style>\n",
       "<table border=\"1\" class=\"dataframe\">\n",
       "  <thead>\n",
       "    <tr style=\"text-align: right;\">\n",
       "      <th></th>\n",
       "      <th>show_id</th>\n",
       "      <th>type</th>\n",
       "      <th>title</th>\n",
       "      <th>director</th>\n",
       "      <th>cast</th>\n",
       "      <th>country</th>\n",
       "      <th>date_added</th>\n",
       "      <th>release_year</th>\n",
       "      <th>rating</th>\n",
       "      <th>duration</th>\n",
       "      <th>listed_in</th>\n",
       "      <th>description</th>\n",
       "      <th>minutes</th>\n",
       "      <th>unit</th>\n",
       "    </tr>\n",
       "  </thead>\n",
       "  <tbody>\n",
       "    <tr>\n",
       "      <th>693</th>\n",
       "      <td>s694</td>\n",
       "      <td>Movie</td>\n",
       "      <td>Ali &amp; Ratu Ratu Queens</td>\n",
       "      <td>Lucky Kuswandi</td>\n",
       "      <td>Iqbaal Ramadhan, Nirina Zubir, Asri Welas, Tik...</td>\n",
       "      <td>NaN</td>\n",
       "      <td>June 17, 2021</td>\n",
       "      <td>2021</td>\n",
       "      <td>TV-14</td>\n",
       "      <td>101 min</td>\n",
       "      <td>Comedies, Dramas, International Movies</td>\n",
       "      <td>After his father's passing, a teenager sets ou...</td>\n",
       "      <td>101.0</td>\n",
       "      <td>min</td>\n",
       "    </tr>\n",
       "    <tr>\n",
       "      <th>781</th>\n",
       "      <td>s782</td>\n",
       "      <td>Movie</td>\n",
       "      <td>Black Holes | The Edge of All We Know</td>\n",
       "      <td>Peter Galison</td>\n",
       "      <td>NaN</td>\n",
       "      <td>NaN</td>\n",
       "      <td>June 2, 2021</td>\n",
       "      <td>2021</td>\n",
       "      <td>TV-14</td>\n",
       "      <td>99 min</td>\n",
       "      <td>Documentaries</td>\n",
       "      <td>Follow scientists on their quest to understand...</td>\n",
       "      <td>99.0</td>\n",
       "      <td>min</td>\n",
       "    </tr>\n",
       "    <tr>\n",
       "      <th>762</th>\n",
       "      <td>s763</td>\n",
       "      <td>Movie</td>\n",
       "      <td>Sweet &amp; Sour</td>\n",
       "      <td>Lee Kae-byeok</td>\n",
       "      <td>Jang Ki-yong, Chae Soo-bin, Jung Soo-jung</td>\n",
       "      <td>South Korea</td>\n",
       "      <td>June 4, 2021</td>\n",
       "      <td>2021</td>\n",
       "      <td>TV-14</td>\n",
       "      <td>103 min</td>\n",
       "      <td>Comedies, International Movies, Romantic Movies</td>\n",
       "      <td>Faced with real-world opportunities and challe...</td>\n",
       "      <td>103.0</td>\n",
       "      <td>min</td>\n",
       "    </tr>\n",
       "    <tr>\n",
       "      <th>763</th>\n",
       "      <td>s764</td>\n",
       "      <td>TV Show</td>\n",
       "      <td>Sweet Tooth</td>\n",
       "      <td>NaN</td>\n",
       "      <td>Nonso Anozie, Christian Convery, Adeel Akhtar,...</td>\n",
       "      <td>United States</td>\n",
       "      <td>June 4, 2021</td>\n",
       "      <td>2021</td>\n",
       "      <td>TV-14</td>\n",
       "      <td>1 Season</td>\n",
       "      <td>TV Action &amp; Adventure, TV Dramas, TV Sci-Fi &amp; ...</td>\n",
       "      <td>On a perilous adventure across a post-apocalyp...</td>\n",
       "      <td>1.0</td>\n",
       "      <td>Season</td>\n",
       "    </tr>\n",
       "    <tr>\n",
       "      <th>764</th>\n",
       "      <td>s765</td>\n",
       "      <td>Movie</td>\n",
       "      <td>Trippin' with the Kandasamys</td>\n",
       "      <td>Jayan Moodley</td>\n",
       "      <td>Jailoshini Naidoo, Maeshni Naicker, Madhushan ...</td>\n",
       "      <td>South Africa</td>\n",
       "      <td>June 4, 2021</td>\n",
       "      <td>2021</td>\n",
       "      <td>TV-14</td>\n",
       "      <td>94 min</td>\n",
       "      <td>Comedies, International Movies, Romantic Movies</td>\n",
       "      <td>To rekindle their marriages, best friends-turn...</td>\n",
       "      <td>94.0</td>\n",
       "      <td>min</td>\n",
       "    </tr>\n",
       "    <tr>\n",
       "      <th>...</th>\n",
       "      <td>...</td>\n",
       "      <td>...</td>\n",
       "      <td>...</td>\n",
       "      <td>...</td>\n",
       "      <td>...</td>\n",
       "      <td>...</td>\n",
       "      <td>...</td>\n",
       "      <td>...</td>\n",
       "      <td>...</td>\n",
       "      <td>...</td>\n",
       "      <td>...</td>\n",
       "      <td>...</td>\n",
       "      <td>...</td>\n",
       "      <td>...</td>\n",
       "    </tr>\n",
       "    <tr>\n",
       "      <th>8660</th>\n",
       "      <td>s8661</td>\n",
       "      <td>Movie</td>\n",
       "      <td>Undercover: How to Operate Behind Enemy Lines</td>\n",
       "      <td>John Ford</td>\n",
       "      <td>NaN</td>\n",
       "      <td>United States</td>\n",
       "      <td>March 31, 2017</td>\n",
       "      <td>1943</td>\n",
       "      <td>TV-PG</td>\n",
       "      <td>61 min</td>\n",
       "      <td>Classic Movies, Documentaries</td>\n",
       "      <td>This World War II-era training film dramatizes...</td>\n",
       "      <td>61.0</td>\n",
       "      <td>min</td>\n",
       "    </tr>\n",
       "    <tr>\n",
       "      <th>8763</th>\n",
       "      <td>s8764</td>\n",
       "      <td>Movie</td>\n",
       "      <td>WWII: Report from the Aleutians</td>\n",
       "      <td>John Huston</td>\n",
       "      <td>NaN</td>\n",
       "      <td>United States</td>\n",
       "      <td>March 31, 2017</td>\n",
       "      <td>1943</td>\n",
       "      <td>TV-PG</td>\n",
       "      <td>45 min</td>\n",
       "      <td>Documentaries</td>\n",
       "      <td>Filmmaker John Huston narrates this Oscar-nomi...</td>\n",
       "      <td>45.0</td>\n",
       "      <td>min</td>\n",
       "    </tr>\n",
       "    <tr>\n",
       "      <th>8205</th>\n",
       "      <td>s8206</td>\n",
       "      <td>Movie</td>\n",
       "      <td>The Battle of Midway</td>\n",
       "      <td>John Ford</td>\n",
       "      <td>Henry Fonda, Jane Darwell</td>\n",
       "      <td>United States</td>\n",
       "      <td>March 31, 2017</td>\n",
       "      <td>1942</td>\n",
       "      <td>TV-14</td>\n",
       "      <td>18 min</td>\n",
       "      <td>Classic Movies, Documentaries</td>\n",
       "      <td>Director John Ford captures combat footage of ...</td>\n",
       "      <td>18.0</td>\n",
       "      <td>min</td>\n",
       "    </tr>\n",
       "    <tr>\n",
       "      <th>7790</th>\n",
       "      <td>s7791</td>\n",
       "      <td>Movie</td>\n",
       "      <td>Prelude to War</td>\n",
       "      <td>Frank Capra</td>\n",
       "      <td>NaN</td>\n",
       "      <td>United States</td>\n",
       "      <td>March 31, 2017</td>\n",
       "      <td>1942</td>\n",
       "      <td>TV-14</td>\n",
       "      <td>52 min</td>\n",
       "      <td>Classic Movies, Documentaries</td>\n",
       "      <td>Frank Capra's documentary chronicles the rise ...</td>\n",
       "      <td>52.0</td>\n",
       "      <td>min</td>\n",
       "    </tr>\n",
       "    <tr>\n",
       "      <th>4250</th>\n",
       "      <td>s4251</td>\n",
       "      <td>TV Show</td>\n",
       "      <td>Pioneers: First Women Filmmakers*</td>\n",
       "      <td>NaN</td>\n",
       "      <td>NaN</td>\n",
       "      <td>NaN</td>\n",
       "      <td>December 30, 2018</td>\n",
       "      <td>1925</td>\n",
       "      <td>TV-14</td>\n",
       "      <td>1 Season</td>\n",
       "      <td>TV Shows</td>\n",
       "      <td>This collection restores films from women who ...</td>\n",
       "      <td>1.0</td>\n",
       "      <td>Season</td>\n",
       "    </tr>\n",
       "  </tbody>\n",
       "</table>\n",
       "<p>8807 rows × 14 columns</p>\n",
       "</div>"
      ],
      "text/plain": [
       "     show_id     type                                          title  \\\n",
       "693     s694    Movie                         Ali & Ratu Ratu Queens   \n",
       "781     s782    Movie          Black Holes | The Edge of All We Know   \n",
       "762     s763    Movie                                   Sweet & Sour   \n",
       "763     s764  TV Show                                    Sweet Tooth   \n",
       "764     s765    Movie                   Trippin' with the Kandasamys   \n",
       "...      ...      ...                                            ...   \n",
       "8660   s8661    Movie  Undercover: How to Operate Behind Enemy Lines   \n",
       "8763   s8764    Movie                WWII: Report from the Aleutians   \n",
       "8205   s8206    Movie                           The Battle of Midway   \n",
       "7790   s7791    Movie                                 Prelude to War   \n",
       "4250   s4251  TV Show              Pioneers: First Women Filmmakers*   \n",
       "\n",
       "            director                                               cast  \\\n",
       "693   Lucky Kuswandi  Iqbaal Ramadhan, Nirina Zubir, Asri Welas, Tik...   \n",
       "781    Peter Galison                                                NaN   \n",
       "762    Lee Kae-byeok          Jang Ki-yong, Chae Soo-bin, Jung Soo-jung   \n",
       "763              NaN  Nonso Anozie, Christian Convery, Adeel Akhtar,...   \n",
       "764    Jayan Moodley  Jailoshini Naidoo, Maeshni Naicker, Madhushan ...   \n",
       "...              ...                                                ...   \n",
       "8660       John Ford                                                NaN   \n",
       "8763     John Huston                                                NaN   \n",
       "8205       John Ford                          Henry Fonda, Jane Darwell   \n",
       "7790     Frank Capra                                                NaN   \n",
       "4250             NaN                                                NaN   \n",
       "\n",
       "            country         date_added  release_year rating  duration  \\\n",
       "693             NaN      June 17, 2021          2021  TV-14   101 min   \n",
       "781             NaN       June 2, 2021          2021  TV-14    99 min   \n",
       "762     South Korea       June 4, 2021          2021  TV-14   103 min   \n",
       "763   United States       June 4, 2021          2021  TV-14  1 Season   \n",
       "764    South Africa       June 4, 2021          2021  TV-14    94 min   \n",
       "...             ...                ...           ...    ...       ...   \n",
       "8660  United States     March 31, 2017          1943  TV-PG    61 min   \n",
       "8763  United States     March 31, 2017          1943  TV-PG    45 min   \n",
       "8205  United States     March 31, 2017          1942  TV-14    18 min   \n",
       "7790  United States     March 31, 2017          1942  TV-14    52 min   \n",
       "4250            NaN  December 30, 2018          1925  TV-14  1 Season   \n",
       "\n",
       "                                              listed_in  \\\n",
       "693              Comedies, Dramas, International Movies   \n",
       "781                                       Documentaries   \n",
       "762     Comedies, International Movies, Romantic Movies   \n",
       "763   TV Action & Adventure, TV Dramas, TV Sci-Fi & ...   \n",
       "764     Comedies, International Movies, Romantic Movies   \n",
       "...                                                 ...   \n",
       "8660                      Classic Movies, Documentaries   \n",
       "8763                                      Documentaries   \n",
       "8205                      Classic Movies, Documentaries   \n",
       "7790                      Classic Movies, Documentaries   \n",
       "4250                                           TV Shows   \n",
       "\n",
       "                                            description  minutes    unit  \n",
       "693   After his father's passing, a teenager sets ou...    101.0     min  \n",
       "781   Follow scientists on their quest to understand...     99.0     min  \n",
       "762   Faced with real-world opportunities and challe...    103.0     min  \n",
       "763   On a perilous adventure across a post-apocalyp...      1.0  Season  \n",
       "764   To rekindle their marriages, best friends-turn...     94.0     min  \n",
       "...                                                 ...      ...     ...  \n",
       "8660  This World War II-era training film dramatizes...     61.0     min  \n",
       "8763  Filmmaker John Huston narrates this Oscar-nomi...     45.0     min  \n",
       "8205  Director John Ford captures combat footage of ...     18.0     min  \n",
       "7790  Frank Capra's documentary chronicles the rise ...     52.0     min  \n",
       "4250  This collection restores films from women who ...      1.0  Season  \n",
       "\n",
       "[8807 rows x 14 columns]"
      ]
     },
     "execution_count": 112,
     "metadata": {},
     "output_type": "execute_result"
    }
   ],
   "source": [
    "df.sort_values(by = 'release_year',ascending=False)"
   ]
  },
  {
   "cell_type": "markdown",
   "metadata": {},
   "source": [
    "**13) Find all the instances where: Category is 'Movie' and Type is 'Dramas' or Category is 'TV Show' & Type is 'Kids' TV'**"
   ]
  },
  {
   "cell_type": "code",
   "execution_count": 119,
   "metadata": {
    "execution": {
     "iopub.execute_input": "2022-07-14T13:18:43.865435Z",
     "iopub.status.busy": "2022-07-14T13:18:43.865019Z",
     "iopub.status.idle": "2022-07-14T13:18:43.896167Z",
     "shell.execute_reply": "2022-07-14T13:18:43.894772Z",
     "shell.execute_reply.started": "2022-07-14T13:18:43.865399Z"
    }
   },
   "outputs": [
    {
     "data": {
      "text/html": [
       "<div>\n",
       "<style scoped>\n",
       "    .dataframe tbody tr th:only-of-type {\n",
       "        vertical-align: middle;\n",
       "    }\n",
       "\n",
       "    .dataframe tbody tr th {\n",
       "        vertical-align: top;\n",
       "    }\n",
       "\n",
       "    .dataframe thead th {\n",
       "        text-align: right;\n",
       "    }\n",
       "</style>\n",
       "<table border=\"1\" class=\"dataframe\">\n",
       "  <thead>\n",
       "    <tr style=\"text-align: right;\">\n",
       "      <th></th>\n",
       "      <th>show_id</th>\n",
       "      <th>type</th>\n",
       "      <th>title</th>\n",
       "      <th>director</th>\n",
       "      <th>cast</th>\n",
       "      <th>country</th>\n",
       "      <th>date_added</th>\n",
       "      <th>release_year</th>\n",
       "      <th>rating</th>\n",
       "      <th>duration</th>\n",
       "      <th>listed_in</th>\n",
       "      <th>description</th>\n",
       "      <th>minutes</th>\n",
       "      <th>unit</th>\n",
       "    </tr>\n",
       "  </thead>\n",
       "  <tbody>\n",
       "    <tr>\n",
       "      <th>112</th>\n",
       "      <td>s113</td>\n",
       "      <td>Movie</td>\n",
       "      <td>Worth</td>\n",
       "      <td>Sara Colangelo</td>\n",
       "      <td>Michael Keaton, Stanley Tucci, Amy Ryan, Shuno...</td>\n",
       "      <td>NaN</td>\n",
       "      <td>September 3, 2021</td>\n",
       "      <td>2021</td>\n",
       "      <td>PG-13</td>\n",
       "      <td>119 min</td>\n",
       "      <td>Dramas</td>\n",
       "      <td>In the wake of the Sept. 11 attacks, a lawyer ...</td>\n",
       "      <td>119.0</td>\n",
       "      <td>min</td>\n",
       "    </tr>\n",
       "    <tr>\n",
       "      <th>129</th>\n",
       "      <td>s130</td>\n",
       "      <td>Movie</td>\n",
       "      <td>An Unfinished Life</td>\n",
       "      <td>Lasse Hallström</td>\n",
       "      <td>Robert Redford, Jennifer Lopez, Morgan Freeman...</td>\n",
       "      <td>Germany, United States</td>\n",
       "      <td>September 1, 2021</td>\n",
       "      <td>2005</td>\n",
       "      <td>PG-13</td>\n",
       "      <td>108 min</td>\n",
       "      <td>Dramas</td>\n",
       "      <td>A grieving widow and her daughter move in with...</td>\n",
       "      <td>108.0</td>\n",
       "      <td>min</td>\n",
       "    </tr>\n",
       "    <tr>\n",
       "      <th>142</th>\n",
       "      <td>s143</td>\n",
       "      <td>Movie</td>\n",
       "      <td>Freedom Writers</td>\n",
       "      <td>Richard LaGravenese</td>\n",
       "      <td>Hilary Swank, Patrick Dempsey, Scott Glenn, Im...</td>\n",
       "      <td>Germany, United States</td>\n",
       "      <td>September 1, 2021</td>\n",
       "      <td>2007</td>\n",
       "      <td>PG-13</td>\n",
       "      <td>124 min</td>\n",
       "      <td>Dramas</td>\n",
       "      <td>While her at-risk students are reading classic...</td>\n",
       "      <td>124.0</td>\n",
       "      <td>min</td>\n",
       "    </tr>\n",
       "    <tr>\n",
       "      <th>162</th>\n",
       "      <td>s163</td>\n",
       "      <td>Movie</td>\n",
       "      <td>Marshall</td>\n",
       "      <td>Reginald Hudlin</td>\n",
       "      <td>Chadwick Boseman, Josh Gad, Kate Hudson, Sterl...</td>\n",
       "      <td>United States, China, Hong Kong</td>\n",
       "      <td>September 1, 2021</td>\n",
       "      <td>2017</td>\n",
       "      <td>PG-13</td>\n",
       "      <td>118 min</td>\n",
       "      <td>Dramas</td>\n",
       "      <td>This biopic of Thurgood Marshall, the first Bl...</td>\n",
       "      <td>118.0</td>\n",
       "      <td>min</td>\n",
       "    </tr>\n",
       "    <tr>\n",
       "      <th>329</th>\n",
       "      <td>s330</td>\n",
       "      <td>Movie</td>\n",
       "      <td>Catch Me If You Can</td>\n",
       "      <td>Steven Spielberg</td>\n",
       "      <td>Leonardo DiCaprio, Tom Hanks, Christopher Walk...</td>\n",
       "      <td>United States, Canada</td>\n",
       "      <td>August 1, 2021</td>\n",
       "      <td>2002</td>\n",
       "      <td>PG-13</td>\n",
       "      <td>142 min</td>\n",
       "      <td>Dramas</td>\n",
       "      <td>An FBI agent makes it his mission to put cunni...</td>\n",
       "      <td>142.0</td>\n",
       "      <td>min</td>\n",
       "    </tr>\n",
       "    <tr>\n",
       "      <th>...</th>\n",
       "      <td>...</td>\n",
       "      <td>...</td>\n",
       "      <td>...</td>\n",
       "      <td>...</td>\n",
       "      <td>...</td>\n",
       "      <td>...</td>\n",
       "      <td>...</td>\n",
       "      <td>...</td>\n",
       "      <td>...</td>\n",
       "      <td>...</td>\n",
       "      <td>...</td>\n",
       "      <td>...</td>\n",
       "      <td>...</td>\n",
       "      <td>...</td>\n",
       "    </tr>\n",
       "    <tr>\n",
       "      <th>8674</th>\n",
       "      <td>s8675</td>\n",
       "      <td>Movie</td>\n",
       "      <td>Viceroy's House</td>\n",
       "      <td>Gurinder Chadha</td>\n",
       "      <td>Hugh Bonneville, Gillian Anderson, Manish Daya...</td>\n",
       "      <td>United Kingdom, India, Sweden</td>\n",
       "      <td>December 12, 2017</td>\n",
       "      <td>2017</td>\n",
       "      <td>NR</td>\n",
       "      <td>106 min</td>\n",
       "      <td>Dramas</td>\n",
       "      <td>As viceroy Lord Mountbatten arrives in Delhi t...</td>\n",
       "      <td>106.0</td>\n",
       "      <td>min</td>\n",
       "    </tr>\n",
       "    <tr>\n",
       "      <th>8675</th>\n",
       "      <td>s8676</td>\n",
       "      <td>Movie</td>\n",
       "      <td>Victor</td>\n",
       "      <td>Brandon Dickerson</td>\n",
       "      <td>Patrick Davis, Lisa Vidal, Josh Pence, José Zú...</td>\n",
       "      <td>United States</td>\n",
       "      <td>July 24, 2017</td>\n",
       "      <td>2015</td>\n",
       "      <td>PG-13</td>\n",
       "      <td>110 min</td>\n",
       "      <td>Dramas</td>\n",
       "      <td>In 1962 Brooklyn, a Puerto Rican teen who join...</td>\n",
       "      <td>110.0</td>\n",
       "      <td>min</td>\n",
       "    </tr>\n",
       "    <tr>\n",
       "      <th>8685</th>\n",
       "      <td>s8686</td>\n",
       "      <td>Movie</td>\n",
       "      <td>VS.</td>\n",
       "      <td>Ed Lilly</td>\n",
       "      <td>Connor Swindells, Fola Evans-Akingbola, Nichol...</td>\n",
       "      <td>United Kingdom</td>\n",
       "      <td>June 19, 2019</td>\n",
       "      <td>2018</td>\n",
       "      <td>TV-MA</td>\n",
       "      <td>99 min</td>\n",
       "      <td>Dramas</td>\n",
       "      <td>A young man in foster care finds his voice in ...</td>\n",
       "      <td>99.0</td>\n",
       "      <td>min</td>\n",
       "    </tr>\n",
       "    <tr>\n",
       "      <th>8691</th>\n",
       "      <td>s8692</td>\n",
       "      <td>Movie</td>\n",
       "      <td>Wakefield</td>\n",
       "      <td>Robin Swicord</td>\n",
       "      <td>Bryan Cranston, Jennifer Garner, Jason O'Mara,...</td>\n",
       "      <td>United States</td>\n",
       "      <td>March 2, 2019</td>\n",
       "      <td>2016</td>\n",
       "      <td>R</td>\n",
       "      <td>109 min</td>\n",
       "      <td>Dramas</td>\n",
       "      <td>An unhappy father and lawyer quits his suburba...</td>\n",
       "      <td>109.0</td>\n",
       "      <td>min</td>\n",
       "    </tr>\n",
       "    <tr>\n",
       "      <th>8696</th>\n",
       "      <td>s8697</td>\n",
       "      <td>Movie</td>\n",
       "      <td>War Horse</td>\n",
       "      <td>Steven Spielberg</td>\n",
       "      <td>Emily Watson, David Thewlis, Peter Mullan, Nie...</td>\n",
       "      <td>United States, India</td>\n",
       "      <td>May 6, 2019</td>\n",
       "      <td>2011</td>\n",
       "      <td>PG-13</td>\n",
       "      <td>147 min</td>\n",
       "      <td>Dramas</td>\n",
       "      <td>During World War I, the bond between a young E...</td>\n",
       "      <td>147.0</td>\n",
       "      <td>min</td>\n",
       "    </tr>\n",
       "  </tbody>\n",
       "</table>\n",
       "<p>138 rows × 14 columns</p>\n",
       "</div>"
      ],
      "text/plain": [
       "     show_id   type                title             director  \\\n",
       "112     s113  Movie                Worth       Sara Colangelo   \n",
       "129     s130  Movie   An Unfinished Life      Lasse Hallström   \n",
       "142     s143  Movie      Freedom Writers  Richard LaGravenese   \n",
       "162     s163  Movie             Marshall      Reginald Hudlin   \n",
       "329     s330  Movie  Catch Me If You Can     Steven Spielberg   \n",
       "...      ...    ...                  ...                  ...   \n",
       "8674   s8675  Movie      Viceroy's House      Gurinder Chadha   \n",
       "8675   s8676  Movie               Victor    Brandon Dickerson   \n",
       "8685   s8686  Movie                  VS.             Ed Lilly   \n",
       "8691   s8692  Movie            Wakefield        Robin Swicord   \n",
       "8696   s8697  Movie            War Horse     Steven Spielberg   \n",
       "\n",
       "                                                   cast  \\\n",
       "112   Michael Keaton, Stanley Tucci, Amy Ryan, Shuno...   \n",
       "129   Robert Redford, Jennifer Lopez, Morgan Freeman...   \n",
       "142   Hilary Swank, Patrick Dempsey, Scott Glenn, Im...   \n",
       "162   Chadwick Boseman, Josh Gad, Kate Hudson, Sterl...   \n",
       "329   Leonardo DiCaprio, Tom Hanks, Christopher Walk...   \n",
       "...                                                 ...   \n",
       "8674  Hugh Bonneville, Gillian Anderson, Manish Daya...   \n",
       "8675  Patrick Davis, Lisa Vidal, Josh Pence, José Zú...   \n",
       "8685  Connor Swindells, Fola Evans-Akingbola, Nichol...   \n",
       "8691  Bryan Cranston, Jennifer Garner, Jason O'Mara,...   \n",
       "8696  Emily Watson, David Thewlis, Peter Mullan, Nie...   \n",
       "\n",
       "                              country         date_added  release_year rating  \\\n",
       "112                               NaN  September 3, 2021          2021  PG-13   \n",
       "129            Germany, United States  September 1, 2021          2005  PG-13   \n",
       "142            Germany, United States  September 1, 2021          2007  PG-13   \n",
       "162   United States, China, Hong Kong  September 1, 2021          2017  PG-13   \n",
       "329             United States, Canada     August 1, 2021          2002  PG-13   \n",
       "...                               ...                ...           ...    ...   \n",
       "8674    United Kingdom, India, Sweden  December 12, 2017          2017     NR   \n",
       "8675                    United States      July 24, 2017          2015  PG-13   \n",
       "8685                   United Kingdom      June 19, 2019          2018  TV-MA   \n",
       "8691                    United States      March 2, 2019          2016      R   \n",
       "8696             United States, India        May 6, 2019          2011  PG-13   \n",
       "\n",
       "     duration listed_in                                        description  \\\n",
       "112   119 min    Dramas  In the wake of the Sept. 11 attacks, a lawyer ...   \n",
       "129   108 min    Dramas  A grieving widow and her daughter move in with...   \n",
       "142   124 min    Dramas  While her at-risk students are reading classic...   \n",
       "162   118 min    Dramas  This biopic of Thurgood Marshall, the first Bl...   \n",
       "329   142 min    Dramas  An FBI agent makes it his mission to put cunni...   \n",
       "...       ...       ...                                                ...   \n",
       "8674  106 min    Dramas  As viceroy Lord Mountbatten arrives in Delhi t...   \n",
       "8675  110 min    Dramas  In 1962 Brooklyn, a Puerto Rican teen who join...   \n",
       "8685   99 min    Dramas  A young man in foster care finds his voice in ...   \n",
       "8691  109 min    Dramas  An unhappy father and lawyer quits his suburba...   \n",
       "8696  147 min    Dramas  During World War I, the bond between a young E...   \n",
       "\n",
       "      minutes unit  \n",
       "112     119.0  min  \n",
       "129     108.0  min  \n",
       "142     124.0  min  \n",
       "162     118.0  min  \n",
       "329     142.0  min  \n",
       "...       ...  ...  \n",
       "8674    106.0  min  \n",
       "8675    110.0  min  \n",
       "8685     99.0  min  \n",
       "8691    109.0  min  \n",
       "8696    147.0  min  \n",
       "\n",
       "[138 rows x 14 columns]"
      ]
     },
     "execution_count": 119,
     "metadata": {},
     "output_type": "execute_result"
    }
   ],
   "source": [
    "df[((df.type == 'Movie')&(df.listed_in =='Dramas'))|((df.type == 'TV Show')&(df.listed_in =='Kids'))]"
   ]
  },
  {
   "cell_type": "code",
   "execution_count": null,
   "metadata": {},
   "outputs": [],
   "source": []
  }
 ],
 "metadata": {
  "kernelspec": {
   "display_name": "Python 3 (ipykernel)",
   "language": "python",
   "name": "python3"
  },
  "language_info": {
   "codemirror_mode": {
    "name": "ipython",
    "version": 3
   },
   "file_extension": ".py",
   "mimetype": "text/x-python",
   "name": "python",
   "nbconvert_exporter": "python",
   "pygments_lexer": "ipython3",
   "version": "3.9.7"
  }
 },
 "nbformat": 4,
 "nbformat_minor": 4
}
